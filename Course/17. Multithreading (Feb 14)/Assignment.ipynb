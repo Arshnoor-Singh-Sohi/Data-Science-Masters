{
 "cells": [
  {
   "cell_type": "markdown",
   "id": "c6b29f90",
   "metadata": {},
   "source": [
    "### Q1. What is multithreading in python? Why is it used? Name the module used to handle threads in python"
   ]
  },
  {
   "cell_type": "markdown",
   "id": "535b0dbb",
   "metadata": {},
   "source": [
    "Multithreading in Python refers to the concurrent execution of multiple threads (smaller units of a process) within a single program. Each thread operates independently, and they share the same resources, such as memory space, but run in parallel. Python's Global Interpreter Lock (GIL) restricts the execution of multiple threads in a single process, meaning that only one thread can execute Python bytecode at a time. This limitation can impact the performance of CPU-bound tasks when using multithreading.\n",
    "\n",
    "Despite the GIL limitation, multithreading can still be beneficial for I/O-bound tasks, where threads can perform non-CPU intensive operations like file I/O, network communication, or database queries concurrently.\n",
    "\n",
    "The `threading` module is commonly used to handle threads in Python. This module provides a way to create, start, and manage threads. You can use the `Thread` class from the `threading` module to create and control threads in Python.\n",
    "\n",
    "Here's a simple example of using the `threading` module to create and start threads:"
   ]
  },
  {
   "cell_type": "code",
   "execution_count": 1,
   "id": "b6a1a401",
   "metadata": {},
   "outputs": [
    {
     "name": "stdout",
     "output_type": "stream",
     "text": [
      "0A\n",
      "B\n",
      "C\n",
      "D\n",
      "E\n",
      "\n",
      "1\n",
      "2\n",
      "3\n",
      "4\n"
     ]
    }
   ],
   "source": [
    "import threading\n",
    "\n",
    "def print_numbers():\n",
    "    for i in range(5):\n",
    "        print(i)\n",
    "\n",
    "def print_letters():\n",
    "    for letter in 'ABCDE':\n",
    "        print(letter)\n",
    "\n",
    "# Create thread objects\n",
    "thread1 = threading.Thread(target=print_numbers)\n",
    "thread2 = threading.Thread(target=print_letters)\n",
    "\n",
    "# Start the threads\n",
    "thread1.start()\n",
    "thread2.start()\n",
    "\n",
    "# Wait for threads to finish\n",
    "thread1.join()\n",
    "thread2.join()"
   ]
  },
  {
   "cell_type": "markdown",
   "id": "5695dbd8",
   "metadata": {},
   "source": [
    "In this example, `print_numbers` and `print_letters` are two functions that will be executed by separate threads. The `Thread` class is used to create two thread objects (`thread1` and `thread2`), and the `start` method is called to initiate their execution. The `join` method is used to wait for the threads to complete their execution before the main program exits."
   ]
  },
  {
   "cell_type": "markdown",
   "id": "f24a3491",
   "metadata": {},
   "source": [
    "### Q2. Why threading module used? Write the use of the following functions\n",
    "1. activeCount()\n",
    "2. currentThread()\n",
    "3. enumerate()"
   ]
  },
  {
   "cell_type": "markdown",
   "id": "571e837c",
   "metadata": {},
   "source": [
    "The `threading` module in Python is used for creating and managing threads in a multithreaded environment. It provides a way to run multiple threads concurrently, allowing for parallel execution of tasks. The module includes various functions and classes for working with threads, and here are explanations for the functions you mentioned:\n",
    "\n",
    "1. `activeCount()`: This function is used to get the number of Thread objects that are currently alive. It returns the total number of Thread objects, including the main thread. The main thread is the one that is executing the Python script."
   ]
  },
  {
   "cell_type": "code",
   "execution_count": 3,
   "id": "982f8acf",
   "metadata": {},
   "outputs": [
    {
     "name": "stdout",
     "output_type": "stream",
     "text": [
      "Number of active threads: 6\n"
     ]
    },
    {
     "name": "stderr",
     "output_type": "stream",
     "text": [
      "C:\\Users\\arshn\\AppData\\Local\\Temp\\ipykernel_13720\\2974523601.py:15: DeprecationWarning: activeCount() is deprecated, use active_count() instead\n",
      "  active_threads = threading.activeCount()\n"
     ]
    }
   ],
   "source": [
    "import threading\n",
    "\n",
    "def some_function():\n",
    "    pass\n",
    "def another_function():\n",
    "    pass\n",
    "\n",
    "# Create and start two threads\n",
    "thread1 = threading.Thread(target=some_function)\n",
    "thread2 = threading.Thread(target=another_function)\n",
    "thread1.start()\n",
    "thread2.start()\n",
    "\n",
    "# Get the number of active threads\n",
    "active_threads = threading.activeCount()\n",
    "print(\"Number of active threads:\", active_threads)"
   ]
  },
  {
   "cell_type": "markdown",
   "id": "658eb1d6",
   "metadata": {},
   "source": [
    "2. `currentThread()`: This function returns the current Thread object, corresponding to the caller's thread of control. It can be useful to identify the thread that is currently executing a particular piece of code."
   ]
  },
  {
   "cell_type": "code",
   "execution_count": 4,
   "id": "286e5f23",
   "metadata": {},
   "outputs": [
    {
     "name": "stderr",
     "output_type": "stream",
     "text": [
      "C:\\Users\\arshn\\AppData\\Local\\Temp\\ipykernel_13720\\563944208.py:4: DeprecationWarning: currentThread() is deprecated, use current_thread() instead\n",
      "  current_thread = threading.currentThread()\n"
     ]
    },
    {
     "name": "stdout",
     "output_type": "stream",
     "text": [
      "Current Thread: Thread-9 (print_current_thread)\n"
     ]
    }
   ],
   "source": [
    "import threading\n",
    "\n",
    "def print_current_thread():\n",
    "    current_thread = threading.currentThread()\n",
    "    print(\"Current Thread:\", current_thread.name)\n",
    "\n",
    "# Create and start a thread\n",
    "thread = threading.Thread(target=print_current_thread)\n",
    "thread.start()"
   ]
  },
  {
   "cell_type": "markdown",
   "id": "8ad74698",
   "metadata": {},
   "source": [
    "3. `enumerate()`: This function returns a list of all Thread objects currently alive. It is particularly useful for iterating over all active threads, inspecting their properties, and performing operations on them."
   ]
  },
  {
   "cell_type": "code",
   "execution_count": 6,
   "id": "b6304fe9",
   "metadata": {},
   "outputs": [
    {
     "name": "stdout",
     "output_type": "stream",
     "text": [
      "Thread Name: MainThread\n",
      "Thread Name: IOPub\n",
      "Thread Name: Heartbeat\n",
      "Thread Name: Control\n",
      "Thread Name: IPythonHistorySavingThread\n",
      "Thread Name: Thread-4\n"
     ]
    }
   ],
   "source": [
    "import threading\n",
    "\n",
    "def print_thread_names():\n",
    "    for thread in threading.enumerate():\n",
    "        print(\"Thread Name:\", thread.name)\n",
    "\n",
    "# Create and start two threads\n",
    "thread1 = threading.Thread(target=some_function, name=\"Thread 1\")\n",
    "thread2 = threading.Thread(target=another_function, name=\"Thread 2\")\n",
    "thread1.start()\n",
    "thread2.start()\n",
    "\n",
    "# Print the names of all active threads\n",
    "print_thread_names()"
   ]
  },
  {
   "cell_type": "markdown",
   "id": "fd98b3c7",
   "metadata": {},
   "source": [
    "\n",
    "These functions are helpful for managing and inspecting threads in a multithreaded program, providing information about the current state and the number of active threads."
   ]
  },
  {
   "cell_type": "markdown",
   "id": "90b161a7",
   "metadata": {},
   "source": [
    "### Q3. Explain the following functions\n",
    "1. run()\n",
    "2. start()\n",
    "3. join()\n",
    "4. isAlive()"
   ]
  },
  {
   "cell_type": "markdown",
   "id": "89b068a4",
   "metadata": {},
   "source": [
    "The functions you mentioned are associated with the `Thread` class in the `threading` module in Python. Let's discuss each of them:\n",
    "\n",
    "1. `run()`: This method is the entry point for the thread's activity. When a `Thread` object is created, you can provide a target function to be executed when the thread is started. If no target is given, the `run()` method will be called. You can also override this method in a subclass to define the code that should be executed when the thread runs.\n",
    "\n",
    "   Example:"
   ]
  },
  {
   "cell_type": "code",
   "execution_count": 12,
   "id": "d04d002b",
   "metadata": {},
   "outputs": [
    {
     "name": "stdout",
     "output_type": "stream",
     "text": [
      "Thread is running\n"
     ]
    }
   ],
   "source": [
    "import threading\n",
    "\n",
    "class MyThread(threading.Thread):\n",
    "    def run(self):\n",
    "        print(\"Thread is running\")\n",
    "\n",
    "# Create and start the thread\n",
    "my_thread = MyThread()\n",
    "my_thread.start()"
   ]
  },
  {
   "cell_type": "markdown",
   "id": "f721af3d",
   "metadata": {},
   "source": [
    "2. `start()`: This method is used to start the execution of the thread. It initiates the thread's activity by calling the `run()` method. If the thread is already started, calling `start()` again will raise a `RuntimeError`. It is essential to call `start()` to begin the execution of the thread.\n",
    "\n",
    "   Example:\n"
   ]
  },
  {
   "cell_type": "code",
   "execution_count": 13,
   "id": "e824d9ce",
   "metadata": {},
   "outputs": [
    {
     "name": "stdout",
     "output_type": "stream",
     "text": [
      "0\n",
      "1\n",
      "2\n",
      "3\n",
      "4\n"
     ]
    }
   ],
   "source": [
    "import threading\n",
    "\n",
    "def print_numbers():\n",
    "    for i in range(5):\n",
    "        print(i)\n",
    "\n",
    "# Create and start the thread\n",
    "my_thread = threading.Thread(target=print_numbers)\n",
    "my_thread.start()"
   ]
  },
  {
   "cell_type": "markdown",
   "id": "4f0b922a",
   "metadata": {},
   "source": [
    "3. `join()`: This method is used to wait for the thread to complete its execution. The calling thread will block and not proceed until the thread being joined has finished. This is useful when you want to ensure that a thread has completed before continuing with the main program.\n",
    "\n",
    "   Example:"
   ]
  },
  {
   "cell_type": "code",
   "execution_count": 14,
   "id": "9a85a1e7",
   "metadata": {},
   "outputs": [
    {
     "name": "stdout",
     "output_type": "stream",
     "text": [
      "0\n",
      "1\n",
      "2\n",
      "3\n",
      "4\n",
      "Thread has finished\n"
     ]
    }
   ],
   "source": [
    "import threading\n",
    "\n",
    "def print_numbers():\n",
    "    for i in range(5):\n",
    "        print(i)\n",
    "\n",
    "# Create and start the thread\n",
    "my_thread = threading.Thread(target=print_numbers)\n",
    "my_thread.start()\n",
    "\n",
    "# Wait for the thread to finish\n",
    "my_thread.join()\n",
    "print(\"Thread has finished\")"
   ]
  },
  {
   "cell_type": "markdown",
   "id": "f44e2941",
   "metadata": {},
   "source": [
    "\n",
    "4. `isAlive()`: This method returns `True` if the thread is currently executing and has not yet terminated, and `False` otherwise. It is a way to check whether a thread is still active.\n",
    "\n",
    "   Example:\n"
   ]
  },
  {
   "cell_type": "code",
   "execution_count": 16,
   "id": "9ab06fc4",
   "metadata": {},
   "outputs": [
    {
     "name": "stdout",
     "output_type": "stream",
     "text": [
      "Thread is still running\n"
     ]
    }
   ],
   "source": [
    "import threading\n",
    "import time\n",
    "\n",
    "def my_function():\n",
    "    time.sleep(2)\n",
    "\n",
    "# Create and start the thread\n",
    "my_thread = threading.Thread(target=my_function)\n",
    "my_thread.start()\n",
    "\n",
    "# Check if the thread is alive\n",
    "if my_thread.is_alive():\n",
    "    print(\"Thread is still running\")\n",
    "else:\n",
    "    print(\"Thread has finished\")"
   ]
  },
  {
   "cell_type": "markdown",
   "id": "884c6fc6",
   "metadata": {},
   "source": [
    "These methods provide essential functionality for managing and controlling the execution of threads in a multithreaded program."
   ]
  },
  {
   "cell_type": "markdown",
   "id": "987e2665",
   "metadata": {},
   "source": [
    "### Q4. Write a python program to create two threads. Thread one must print the list of squares and thread two must print the list of cubes."
   ]
  },
  {
   "cell_type": "code",
   "execution_count": 18,
   "id": "99a0b616",
   "metadata": {},
   "outputs": [
    {
     "name": "stdout",
     "output_type": "stream",
     "text": [
      "Square of 1: 1Cube of 1: 1\n",
      "Cube of 2: 8\n",
      "Cube of 3: 27\n",
      "Cube of 4: 64\n",
      "Cube of 5: 125\n",
      "\n",
      "Square of 2: 4\n",
      "Square of 3: 9\n",
      "Square of 4: 16\n",
      "Square of 5: 25\n",
      "Main thread exits.\n"
     ]
    }
   ],
   "source": [
    "import threading\n",
    "\n",
    "def print_squares(numbers):\n",
    "    for num in numbers:\n",
    "        square = num ** 2\n",
    "        print(f\"Square of {num}: {square}\")\n",
    "\n",
    "def print_cubes(numbers):\n",
    "    for num in numbers:\n",
    "        cube = num ** 3\n",
    "        print(f\"Cube of {num}: {cube}\")\n",
    "\n",
    "if __name__ == \"__main__\":\n",
    "    numbers = [1, 2, 3, 4, 5]\n",
    "\n",
    "    # Create thread for printing squares\n",
    "    thread_squares = threading.Thread(target=print_squares, args=(numbers,))\n",
    "\n",
    "    # Create thread for printing cubes\n",
    "    thread_cubes = threading.Thread(target=print_cubes, args=(numbers,))\n",
    "\n",
    "    # Start both threads\n",
    "    thread_squares.start()\n",
    "    thread_cubes.start()\n",
    "\n",
    "    # Wait for both threads to finish\n",
    "    thread_squares.join()\n",
    "    thread_cubes.join()\n",
    "\n",
    "    print(\"Main thread exits.\")"
   ]
  },
  {
   "cell_type": "markdown",
   "id": "740b525c",
   "metadata": {},
   "source": [
    "### Q5. State advantages and disadvantages of multithreading."
   ]
  },
  {
   "cell_type": "markdown",
   "id": "6ab1dcef",
   "metadata": {},
   "source": [
    "### Advantages of Multithreading:\n",
    "\n",
    "1. **Improved Performance:**\n",
    "   - Multithreading allows concurrent execution of tasks, which can lead to improved performance, especially on multi-core processors. Threads can execute in parallel, utilizing available CPU resources more efficiently.\n",
    "\n",
    "2. **Responsiveness:**\n",
    "   - Multithreading is beneficial for applications that require responsiveness, such as user interfaces. By running time-consuming tasks in the background, the main thread remains responsive to user input.\n",
    "\n",
    "3. **Resource Sharing:**\n",
    "   - Threads within the same process share the same resources, such as memory space. This facilitates efficient communication and sharing of data between threads, leading to better resource utilization.\n",
    "\n",
    "4. **Task Parallelism:**\n",
    "   - Multithreading is well-suited for applications with multiple independent tasks that can be performed concurrently. Each thread can handle a specific task, leading to better parallelism.\n",
    "\n",
    "5. **Scalability:**\n",
    "   - Multithreading can enhance the scalability of applications. As the number of cores in processors increases, applications designed with multithreading in mind can take advantage of parallelism to scale performance.\n",
    "\n",
    "6. **Reduced Latency:**\n",
    "   - In real-time systems, multithreading can help reduce latency by allowing critical tasks to execute concurrently. This is crucial for applications where timely responses are essential.\n",
    "\n",
    "7. **Simplified Code Structure:**\n",
    "   - Concurrent tasks can be encapsulated into separate threads, resulting in a cleaner and more modular code structure. This can improve code readability and maintainability.\n",
    "\n",
    "### Disadvantages of Multithreading:\n",
    "\n",
    "1. **Complexity:**\n",
    "   - Multithreading introduces complexities such as synchronization, race conditions, and deadlock handling. Designing and debugging multithreaded applications can be challenging.\n",
    "\n",
    "2. **Synchronization Overhead:**\n",
    "   - When multiple threads access shared resources concurrently, synchronization mechanisms (e.g., locks, semaphores) are needed to prevent data corruption. This introduces overhead and can impact performance.\n",
    "\n",
    "3. **Potential for Data Corruption:**\n",
    "   - Improperly synchronized access to shared data can lead to data corruption and unexpected behavior. Careful consideration is required to manage data consistency and avoid race conditions.\n",
    "\n",
    "4. **Difficulty in Debugging:**\n",
    "   - Identifying and resolving issues in multithreaded code can be more challenging than in single-threaded code. Debugging tools and techniques specific to multithreading are often necessary.\n",
    "\n",
    "5. **Increased Memory Usage:**\n",
    "   - Each thread has its own stack, which contributes to increased memory usage. In some cases, the memory overhead associated with managing multiple threads may outweigh the benefits.\n",
    "\n",
    "6. **GIL in Python:**\n",
    "   - In Python, the Global Interpreter Lock (GIL) limits the execution of multiple threads in a single process, impacting the parallelism that can be achieved. This can affect the performance of CPU-bound tasks.\n",
    "\n",
    "7. **Potential for Deadlocks:**\n",
    "   - Poorly managed synchronization can lead to deadlocks, where threads are blocked indefinitely, waiting for each other to release resources. Deadlocks can be challenging to detect and resolve.\n",
    "\n",
    "In summary, while multithreading offers advantages in terms of performance and responsiveness, it also introduces complexities and challenges related to synchronization and debugging. The decision to use multithreading should be based on the specific requirements of the application and careful consideration of the potential drawbacks."
   ]
  },
  {
   "cell_type": "markdown",
   "id": "a8ae8ba4",
   "metadata": {},
   "source": [
    "### Q6. Explain deadlocks and race conditions."
   ]
  },
  {
   "cell_type": "markdown",
   "id": "b6980d8a",
   "metadata": {},
   "source": [
    "**Deadlock:**\n",
    "\n",
    "A deadlock is a situation in computing where two or more processes are unable to proceed because each is waiting for the other to release a resource. In other words, it's a state in which a set of processes is blocked because each process is holding a resource and waiting for another resource acquired by some other process.\n",
    "\n",
    "Key conditions for a deadlock to occur:\n",
    "\n",
    "1. **Mutual Exclusion:**\n",
    "   - At least one resource must be held in a non-sharable mode, meaning only one process at a time can use it.\n",
    "\n",
    "2. **Hold and Wait:**\n",
    "   - A process is holding at least one resource and is waiting to acquire additional resources held by other processes.\n",
    "\n",
    "3. **No Preemption:**\n",
    "   - Resources cannot be forcibly taken away from a process; they must be released voluntarily.\n",
    "\n",
    "4. **Circular Wait:**\n",
    "   - There must exist a set of processes such that each process is waiting for a resource held by the next process in the set.\n",
    "\n",
    "When these conditions are met, a deadlock can occur, and the involved processes may remain blocked indefinitely, leading to a loss of system throughput and responsiveness. Deadlock prevention, avoidance, and recovery strategies are employed to handle these situations.\n",
    "\n",
    "**Race Condition:**\n",
    "\n",
    "A race condition is a situation in which the behavior of a system depends on the relative timing of events, and the outcome is unpredictable. It occurs when the behavior of a program depends not only on the logical sequence of statements but also on the timing of their execution. Race conditions are prevalent in concurrent programming when multiple threads or processes access shared data concurrently without proper synchronization.\n",
    "\n",
    "Key characteristics of race conditions:\n",
    "\n",
    "1. **Shared Data:**\n",
    "   - Multiple threads or processes access shared data concurrently.\n",
    "\n",
    "2. **Unpredictable Outcome:**\n",
    "   - The final result or state of the program becomes unpredictable and depends on the order in which the threads execute.\n",
    "\n",
    "3. **No Synchronization:**\n",
    "   - Lack of proper synchronization mechanisms (e.g., locks, semaphores) can lead to race conditions.\n",
    "\n",
    "Example of a race condition in Python:\n"
   ]
  },
  {
   "cell_type": "code",
   "execution_count": 17,
   "id": "814c00d2",
   "metadata": {},
   "outputs": [
    {
     "name": "stdout",
     "output_type": "stream",
     "text": [
      "Counter: 2000000\n"
     ]
    }
   ],
   "source": [
    "import threading\n",
    "\n",
    "counter = 0\n",
    "\n",
    "def increment():\n",
    "    global counter\n",
    "    for _ in range(1000000):\n",
    "        counter += 1\n",
    "\n",
    "# Create two threads that increment the counter concurrently\n",
    "thread1 = threading.Thread(target=increment)\n",
    "thread2 = threading.Thread(target=increment)\n",
    "\n",
    "# Start the threads\n",
    "thread1.start()\n",
    "thread2.start()\n",
    "\n",
    "# Wait for both threads to finish\n",
    "thread1.join()\n",
    "thread2.join()\n",
    "\n",
    "# The expected result is 2,000,000, but due to the race condition, it may vary\n",
    "print(\"Counter:\", counter)"
   ]
  },
  {
   "cell_type": "markdown",
   "id": "cc1fec9e",
   "metadata": {},
   "source": [
    "\n",
    "In this example, both threads are incrementing a shared counter variable concurrently. Due to the lack of synchronization, the final value of the counter is unpredictable and may vary with each run, demonstrating a race condition.\n",
    "\n",
    "To prevent race conditions, proper synchronization mechanisms must be employed to ensure that critical sections of code are executed atomically, avoiding interleaved and inconsistent operations on shared data."
   ]
  },
  {
   "cell_type": "code",
   "execution_count": null,
   "id": "a3428581",
   "metadata": {},
   "outputs": [],
   "source": []
  }
 ],
 "metadata": {
  "kernelspec": {
   "display_name": "Python 3 (ipykernel)",
   "language": "python",
   "name": "python3"
  },
  "language_info": {
   "codemirror_mode": {
    "name": "ipython",
    "version": 3
   },
   "file_extension": ".py",
   "mimetype": "text/x-python",
   "name": "python",
   "nbconvert_exporter": "python",
   "pygments_lexer": "ipython3",
   "version": "3.10.9"
  }
 },
 "nbformat": 4,
 "nbformat_minor": 5
}
