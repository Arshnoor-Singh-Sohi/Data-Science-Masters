{
 "cells": [
  {
   "cell_type": "code",
   "execution_count": 1,
   "id": "51eab1b5",
   "metadata": {},
   "outputs": [],
   "source": [
    "import threading"
   ]
  },
  {
   "cell_type": "code",
   "execution_count": 4,
   "id": "6d90c294",
   "metadata": {},
   "outputs": [],
   "source": [
    "def test(id):\n",
    "    print(\"Program Starts %d \"% id)"
   ]
  },
  {
   "cell_type": "code",
   "execution_count": 6,
   "id": "2ec180c5",
   "metadata": {},
   "outputs": [
    {
     "name": "stdout",
     "output_type": "stream",
     "text": [
      "Program Starts 45 \n"
     ]
    }
   ],
   "source": [
    "test(45)"
   ]
  },
  {
   "cell_type": "code",
   "execution_count": 9,
   "id": "29f8b439",
   "metadata": {},
   "outputs": [],
   "source": [
    "thread = [threading.Thread(target=test, args=(i,) )for i in range(10)]"
   ]
  },
  {
   "cell_type": "code",
   "execution_count": 10,
   "id": "6b316540",
   "metadata": {},
   "outputs": [
    {
     "name": "stdout",
     "output_type": "stream",
     "text": [
      "Program Starts 0 \n",
      "Program Starts 1 \n",
      "Program Starts 2 \n",
      "Program Starts 3 \n",
      "Program Starts 4 \n",
      "Program Starts 5 \n",
      "Program Starts 6 \n",
      "Program Starts 7 \n",
      "Program Starts 8 \n",
      "Program Starts 9 \n"
     ]
    }
   ],
   "source": [
    "for t in thread:\n",
    "    t.start()"
   ]
  },
  {
   "cell_type": "code",
   "execution_count": 11,
   "id": "f1612c60",
   "metadata": {},
   "outputs": [
    {
     "data": {
      "text/plain": [
       "2146336358080"
      ]
     },
     "execution_count": 11,
     "metadata": {},
     "output_type": "execute_result"
    }
   ],
   "source": [
    "id(thread)"
   ]
  },
  {
   "cell_type": "code",
   "execution_count": 12,
   "id": "e9e7a0db",
   "metadata": {},
   "outputs": [],
   "source": [
    "import threading\n",
    "import urllib.request\n",
    "\n",
    "def file_download( url, filename):\n",
    "    urllib.request.urlretrieve(url, filename)"
   ]
  },
  {
   "cell_type": "code",
   "execution_count": 13,
   "id": "8df4ba46",
   "metadata": {},
   "outputs": [],
   "source": [
    "file_download('https://raw.githubusercontent.com/itsfoss/text-files/master/agatha.txt', \"test.txt\")"
   ]
  },
  {
   "cell_type": "code",
   "execution_count": 14,
   "id": "03e9596c",
   "metadata": {},
   "outputs": [],
   "source": [
    "url_list = ['https://raw.githubusercontent.com/itsfoss/text-files/master/agatha.txt',\n",
    "            'https://raw.githubusercontent.com/itsfoss/text-files/master/sherlock.txt',\n",
    "            'https://raw.githubusercontent.com/itsfoss/text-files/master/sample_log_file.txt']"
   ]
  },
  {
   "cell_type": "code",
   "execution_count": 15,
   "id": "cdd9def1",
   "metadata": {},
   "outputs": [
    {
     "data": {
      "text/plain": [
       "['https://raw.githubusercontent.com/itsfoss/text-files/master/agatha.txt',\n",
       " 'https://raw.githubusercontent.com/itsfoss/text-files/master/sherlock.txt',\n",
       " 'https://raw.githubusercontent.com/itsfoss/text-files/master/sample_log_file.txt']"
      ]
     },
     "execution_count": 15,
     "metadata": {},
     "output_type": "execute_result"
    }
   ],
   "source": [
    "url_list"
   ]
  },
  {
   "cell_type": "code",
   "execution_count": 16,
   "id": "11017411",
   "metadata": {},
   "outputs": [],
   "source": [
    "file_name_list = ['data1.txt', 'data2.txt', 'data3.txt']"
   ]
  },
  {
   "cell_type": "code",
   "execution_count": 21,
   "id": "67512715",
   "metadata": {},
   "outputs": [],
   "source": [
    "thread1 = [threading.Thread(target=file_download, args = (url_list[i], file_name_list[i]) ) for i in range(len(url_list))]"
   ]
  },
  {
   "cell_type": "code",
   "execution_count": 22,
   "id": "4c94603e",
   "metadata": {},
   "outputs": [
    {
     "data": {
      "text/plain": [
       "[<Thread(Thread-16 (file_download), initial)>,\n",
       " <Thread(Thread-17 (file_download), initial)>,\n",
       " <Thread(Thread-18 (file_download), initial)>]"
      ]
     },
     "execution_count": 22,
     "metadata": {},
     "output_type": "execute_result"
    }
   ],
   "source": [
    "thread1"
   ]
  },
  {
   "cell_type": "code",
   "execution_count": 23,
   "id": "3b06cf42",
   "metadata": {},
   "outputs": [],
   "source": [
    "for t in thread1:\n",
    "    t.start()"
   ]
  },
  {
   "cell_type": "code",
   "execution_count": 24,
   "id": "7924a988",
   "metadata": {},
   "outputs": [],
   "source": [
    "import time"
   ]
  },
  {
   "cell_type": "code",
   "execution_count": 29,
   "id": "95584f26",
   "metadata": {},
   "outputs": [],
   "source": [
    "def test1(id):\n",
    "    for i in range(10):\n",
    "        print(\"test1 %d printing %d %s\" %(id,i,time.ctime()))\n",
    "        time.sleep(1)"
   ]
  },
  {
   "cell_type": "code",
   "execution_count": 30,
   "id": "159fb2b6",
   "metadata": {},
   "outputs": [
    {
     "name": "stdout",
     "output_type": "stream",
     "text": [
      "test1 1 printing 0 Thu Jan 18 22:47:19 2024\n",
      "test1 1 printing 1 Thu Jan 18 22:47:20 2024\n",
      "test1 1 printing 2 Thu Jan 18 22:47:21 2024\n",
      "test1 1 printing 3 Thu Jan 18 22:47:22 2024\n",
      "test1 1 printing 4 Thu Jan 18 22:47:23 2024\n",
      "test1 1 printing 5 Thu Jan 18 22:47:24 2024\n",
      "test1 1 printing 6 Thu Jan 18 22:47:25 2024\n",
      "test1 1 printing 7 Thu Jan 18 22:47:26 2024\n",
      "test1 1 printing 8 Thu Jan 18 22:47:27 2024\n",
      "test1 1 printing 9 Thu Jan 18 22:47:28 2024\n"
     ]
    }
   ],
   "source": [
    "test1(1)"
   ]
  },
  {
   "cell_type": "code",
   "execution_count": 31,
   "id": "84e2a2d7",
   "metadata": {},
   "outputs": [],
   "source": [
    "thread2 = [threading.Thread(target=test1, args = (i,)) for i in range(3)]"
   ]
  },
  {
   "cell_type": "code",
   "execution_count": 32,
   "id": "60d53444",
   "metadata": {},
   "outputs": [
    {
     "name": "stdout",
     "output_type": "stream",
     "text": [
      "test1 0 printing 0 Thu Jan 18 22:47:29 2024\n",
      "test1 1 printing 0 Thu Jan 18 22:47:29 2024\n",
      "test1 2 printing 0 Thu Jan 18 22:47:29 2024\n",
      "test1 1 printing 1 Thu Jan 18 22:47:30 2024\n",
      "test1 0 printing 1 Thu Jan 18 22:47:30 2024\n",
      "test1 2 printing 1 Thu Jan 18 22:47:30 2024\n",
      "test1 2 printing 2 Thu Jan 18 22:47:31 2024\n",
      "test1 0 printing 2 Thu Jan 18 22:47:31 2024\n",
      "test1 1 printing 2 Thu Jan 18 22:47:31 2024\n",
      "test1 0 printing 3 Thu Jan 18 22:47:32 2024test1 2 printing 3 Thu Jan 18 22:47:32 2024\n",
      "test1 1 printing 3 Thu Jan 18 22:47:32 2024\n",
      "\n",
      "test1 2 printing 4 Thu Jan 18 22:47:33 2024\n",
      "test1 1 printing 4 Thu Jan 18 22:47:33 2024\n",
      "test1 0 printing 4 Thu Jan 18 22:47:33 2024\n",
      "test1 2 printing 5 Thu Jan 18 22:47:34 2024\n",
      "test1 1 printing 5 Thu Jan 18 22:47:35 2024\n",
      "test1 0 printing 5 Thu Jan 18 22:47:35 2024\n",
      "test1 2 printing 6 Thu Jan 18 22:47:35 2024\n",
      "test1 0 printing 6 Thu Jan 18 22:47:36 2024\n",
      "test1 1 printing 6 Thu Jan 18 22:47:36 2024\n",
      "test1 2 printing 7 Thu Jan 18 22:47:37 2024\n",
      "test1 1 printing 7 Thu Jan 18 22:47:37 2024\n",
      "test1 0 printing 7 Thu Jan 18 22:47:37 2024\n",
      "test1 2 printing 8 Thu Jan 18 22:47:38 2024\n",
      "test1 1 printing 8 Thu Jan 18 22:47:38 2024\n",
      "test1 0 printing 8 Thu Jan 18 22:47:38 2024\n",
      "test1 2 printing 9 Thu Jan 18 22:47:39 2024\n",
      "test1 0 printing 9 Thu Jan 18 22:47:39 2024\n",
      "test1 1 printing 9 Thu Jan 18 22:47:39 2024\n"
     ]
    }
   ],
   "source": [
    "for t in thread2:\n",
    "    t.start()"
   ]
  },
  {
   "cell_type": "code",
   "execution_count": 45,
   "id": "15d739d0",
   "metadata": {},
   "outputs": [],
   "source": [
    "shared_variable = 0\n",
    "lock_variable = threading.Lock()"
   ]
  },
  {
   "cell_type": "code",
   "execution_count": 54,
   "id": "98c14334",
   "metadata": {},
   "outputs": [],
   "source": [
    "def test2(id):\n",
    "    global shared_variable\n",
    "    with lock_variable:\n",
    "        shared_variable = shared_variable + 1\n",
    "        print(\"test2 id is %d has increased the shared variable by %d\" %(id, shared_variable))\n",
    "        time.sleep(1)"
   ]
  },
  {
   "cell_type": "code",
   "execution_count": 55,
   "id": "fc76c84f",
   "metadata": {},
   "outputs": [],
   "source": [
    "thread3 = [threading.Thread(target=test2, args=(i,)) for i in range(3)]"
   ]
  },
  {
   "cell_type": "code",
   "execution_count": 56,
   "id": "356a8235",
   "metadata": {},
   "outputs": [
    {
     "data": {
      "text/plain": [
       "[<Thread(Thread-40 (test2), initial)>,\n",
       " <Thread(Thread-41 (test2), initial)>,\n",
       " <Thread(Thread-42 (test2), initial)>]"
      ]
     },
     "execution_count": 56,
     "metadata": {},
     "output_type": "execute_result"
    }
   ],
   "source": [
    "thread3"
   ]
  },
  {
   "cell_type": "code",
   "execution_count": 57,
   "id": "d30a211f",
   "metadata": {},
   "outputs": [
    {
     "name": "stdout",
     "output_type": "stream",
     "text": [
      "test2 id is 0 has increased the shared variable by 7\n",
      "test2 id is 1 has increased the shared variable by 8\n",
      "test2 id is 2 has increased the shared variable by 9\n"
     ]
    }
   ],
   "source": [
    "for t in thread3:\n",
    "    t.start()"
   ]
  },
  {
   "cell_type": "code",
   "execution_count": null,
   "id": "66693630",
   "metadata": {},
   "outputs": [],
   "source": []
  }
 ],
 "metadata": {
  "kernelspec": {
   "display_name": "Python 3 (ipykernel)",
   "language": "python",
   "name": "python3"
  },
  "language_info": {
   "codemirror_mode": {
    "name": "ipython",
    "version": 3
   },
   "file_extension": ".py",
   "mimetype": "text/x-python",
   "name": "python",
   "nbconvert_exporter": "python",
   "pygments_lexer": "ipython3",
   "version": "3.10.9"
  }
 },
 "nbformat": 4,
 "nbformat_minor": 5
}
