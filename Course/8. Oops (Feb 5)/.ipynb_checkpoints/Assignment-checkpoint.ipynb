{
 "cells": [
  {
   "cell_type": "markdown",
   "id": "3d2b02d9",
   "metadata": {},
   "source": [
    "## Q1. Explain Class and Object with respect to Object-Oriented Programming. Give a suitable example."
   ]
  },
  {
   "cell_type": "markdown",
   "id": "fdccbd6a",
   "metadata": {},
   "source": [
    "In object-oriented programming (OOP), a class is a blueprint or a template that defines the properties (attributes) and \n",
    "behaviors (methods) that objects of that class will have. It serves as a blueprint for creating objects, specifying what \n",
    "kind of data the object will hold and what operations can be performed on that data.\n",
    "\n",
    "An object, on the other hand, is an instance of a class. It is a concrete entity created based on the class definition. \n",
    "Each object represents a unique entity with its own set of attributes and can perform actions or methods defined in the class."
   ]
  },
  {
   "cell_type": "code",
   "execution_count": 2,
   "id": "c2f4664e",
   "metadata": {},
   "outputs": [
    {
     "name": "stdout",
     "output_type": "stream",
     "text": [
      "Buddy\n",
      "5\n",
      "Woof!\n",
      "Max is 5 years old.\n"
     ]
    }
   ],
   "source": [
    "class Dog:\n",
    "    def __init__(self, name, age):\n",
    "        self.name = name\n",
    "        self.age = age\n",
    "\n",
    "    def bark(self):\n",
    "        return \"Woof!\"\n",
    "\n",
    "    def info(self):\n",
    "        return f\"{self.name} is {self.age} years old.\"\n",
    "\n",
    "\n",
    "# Creating objects (instances) of the Dog class\n",
    "dog1 = Dog(\"Buddy\", 3)\n",
    "dog2 = Dog(\"Max\", 5)\n",
    "\n",
    "# Accessing attributes and methods of the objects\n",
    "print(dog1.name)  # Output: Buddy\n",
    "print(dog2.age)   # Output: 5\n",
    "\n",
    "print(dog1.bark())  # Output: Woof!\n",
    "print(dog2.info())  # Output: Max is 5 years old."
   ]
  },
  {
   "cell_type": "markdown",
   "id": "5faa2c3a",
   "metadata": {},
   "source": [
    "## Q2. Name the four pillars of OOPs."
   ]
  },
  {
   "cell_type": "markdown",
   "id": "c7749b69",
   "metadata": {},
   "source": [
    "The four pillars of Object-Oriented Programming (OOP) are:\n",
    "\n",
    "Encapsulation:\n",
    "\n",
    "    Encapsulation refers to the bundling of data (attributes) and methods (functions) that operate on that data \n",
    "    within a single unit, i.e., a class.\n",
    "    \n",
    "Abstraction:\n",
    "\n",
    "     It focuses on hiding the unnecessary details and exposing only the essential features and behavior of an object. \n",
    "     \n",
    "Inheritance:\n",
    "\n",
    "    Inheritance is a mechanism in which one class (subclass or derived class) can acquire the properties and behaviors of \n",
    "    another class (superclass or base class).\n",
    "    \n",
    "Polymorphism:\n",
    "\n",
    "    The word polymorphism means having many forms. In simple words, we can define polymorphism as the ability of a message \n",
    "    to be displayed in more than one form."
   ]
  },
  {
   "cell_type": "markdown",
   "id": "99f53ae2",
   "metadata": {},
   "source": [
    "## Q3. Explain why the __init__() function is used. Give a suitable example."
   ]
  },
  {
   "cell_type": "markdown",
   "id": "b02f08c6",
   "metadata": {},
   "source": [
    "The __init__() function in Python is a special method, also known as the constructor method, used to initialize the object's \n",
    "attributes when an instance (object) of a class is created. It is automatically called every time a new object is instantiated \n",
    "from the class, allowing you to set up the initial state and values of the object's attributes"
   ]
  },
  {
   "cell_type": "code",
   "execution_count": 5,
   "id": "cc608716",
   "metadata": {},
   "outputs": [
    {
     "name": "stdout",
     "output_type": "stream",
     "text": [
      "Name: Alice, Age: 30\n",
      "Name: Bob, Age: 25\n"
     ]
    }
   ],
   "source": [
    "class Person:\n",
    "    def __init__(self, name, age):\n",
    "        self.name = name\n",
    "        self.age = age\n",
    "\n",
    "    def display_info(self):\n",
    "        print(f\"Name: {self.name}, Age: {self.age}\")\n",
    "\n",
    "\n",
    "# Creating objects and initializing attributes using __init__()\n",
    "person1 = Person(\"Alice\", 30)\n",
    "person2 = Person(\"Bob\", 25)\n",
    "\n",
    "# Displaying information\n",
    "person1.display_info()  # Output: Name: Alice, Age: 30\n",
    "person2.display_info()  # Output: Name: Bob, Age: 25"
   ]
  },
  {
   "cell_type": "markdown",
   "id": "59e686a4",
   "metadata": {},
   "source": [
    "## Q4. Why self is used in OOPs?"
   ]
  },
  {
   "cell_type": "markdown",
   "id": "601662fc",
   "metadata": {},
   "source": [
    "In Object-Oriented Programming (OOP), `self` is a special parameter that is used as a reference to the instance of the class. \n",
    "It is a convention in Python (and some other programming languages) to use the name `self` as the first parameter of instance \n",
    "methods (including the `__init__()` constructor).\n",
    "\n",
    "The use of `self` in OOP serves the following purposes:\n",
    "\n",
    "#### 1. Instance Reference:\n",
    "    When a method is called on an object, `self` refers to that specific instance of the class. It allows the method to \n",
    "    access and modify the attributes (data) of the object that called it. Without `self`, the method would not know which    \t\tobject's attributes to work with.\n",
    "\n",
    "#### 2. Attribute Access: \n",
    "    Through `self`, methods can access and modify the attributes and other methods of the same instance. It provides a way \n",
    "    for the object to store and manage its own data and state.\n",
    "    \n",
    "#### 3. Method Invocation: \n",
    "    `self` is used to call other methods of the same class within an instance method. This allows methods to interact with \n",
    "    each other and collaborate to perform complex tasks.\n",
    "#### 4. Instance Creation: \n",
    "\tIn the `__init__()` constructor, `self` represents the newly created instance of the class. It is used to \n",
    "    initialize and set the initial state (attributes) of the object."
   ]
  },
  {
   "cell_type": "code",
   "execution_count": 7,
   "id": "43fea2fa",
   "metadata": {},
   "outputs": [
    {
     "name": "stdout",
     "output_type": "stream",
     "text": [
      "Make: Toyota, Model: Corolla\n",
      "Make: Honda, Model: Civic\n"
     ]
    }
   ],
   "source": [
    "class Car:\n",
    "    def __init__(self, make, model):\n",
    "        self.make = make\n",
    "        self.model = model\n",
    "\n",
    "    def display_info(self):\n",
    "        return f\"Make: {self.make}, Model: {self.model}\"\n",
    "\n",
    "\n",
    "# Creating objects of the Car class and accessing instance methods\n",
    "car1 = Car(\"Toyota\", \"Corolla\")\n",
    "car2 = Car(\"Honda\", \"Civic\")\n",
    "\n",
    "print(car1.display_info())  # Output: Make: Toyota, Model: Corolla\n",
    "print(car2.display_info())  # Output: Make: Honda, Model: Civic"
   ]
  },
  {
   "cell_type": "markdown",
   "id": "541187aa",
   "metadata": {},
   "source": [
    "## Q5. What is inheritance? Give an example for each type of inheritance"
   ]
  },
  {
   "cell_type": "markdown",
   "id": "e437a165",
   "metadata": {},
   "source": [
    "Inheritance is a fundamental concept in Object-Oriented Programming (OOP) that allows a class (subclass or derived class) \n",
    "to inherit properties and behaviors from another class (superclass or base class).\n",
    "The derived class automatically acquires the attributes and methods of the base class, which promotes code reuse and \n",
    "supports the \"is-a\" relationship between classes.\n",
    "\n",
    "There are four types of inheritance in OOP:\n",
    "\n",
    "#### 1.Single Inheritance:\n",
    "\tSingle inheritance involves a class inheriting from only one superclass. It forms a simple hierarchical relationship,\n",
    "    where the derived class directly inherits from a single base class."
   ]
  },
  {
   "cell_type": "code",
   "execution_count": 13,
   "id": "6e9f41b2",
   "metadata": {},
   "outputs": [
    {
     "name": "stdout",
     "output_type": "stream",
     "text": [
      "Woof!\n"
     ]
    }
   ],
   "source": [
    "class Animal:\n",
    "    def sound(self):\n",
    "        return \"Generic animal sound\"\n",
    "\n",
    "class Dog(Animal):\n",
    "    def sound(self):\n",
    "        return \"Woof!\"\n",
    "\n",
    "# Creating an object of the Dog class\n",
    "dog = Dog()\n",
    "print(dog.sound())  # Output: Woof!"
   ]
  },
  {
   "cell_type": "markdown",
   "id": "920279cd",
   "metadata": {},
   "source": [
    "#### 2.Multiple Inheritance:\n",
    "\tMultiple inheritance allows a class to inherit from two or more base classes. It enables a derived class to acquire properties and behaviors from multiple classes."
   ]
  },
  {
   "cell_type": "code",
   "execution_count": 14,
   "id": "dfee3513",
   "metadata": {},
   "outputs": [
    {
     "name": "stdout",
     "output_type": "stream",
     "text": [
      "Generic animal sound\n",
      "I am a pet\n"
     ]
    }
   ],
   "source": [
    "class Animal:\n",
    "    def sound(self):\n",
    "        return \"Generic animal sound\"\n",
    "\n",
    "class Pet:\n",
    "    def name(self):\n",
    "        return \"I am a pet\"\n",
    "\n",
    "class Dog(Animal, Pet):\n",
    "    pass\n",
    "\n",
    "# Creating an object of the Dog class\n",
    "dog = Dog()\n",
    "print(dog.sound())  # Output: Generic animal sound\n",
    "print(dog.name())   # Output: I am a pet"
   ]
  },
  {
   "cell_type": "markdown",
   "id": "bd10c4d6",
   "metadata": {},
   "source": [
    "#### 3.Multilevel Inheritance:\n",
    "\tMultilevel inheritance involves a chain of inheritance with multiple levels of classes. A class inherits from a superclass, and another class inherits from this subclass, forming a hierarchy."
   ]
  },
  {
   "cell_type": "code",
   "execution_count": 16,
   "id": "8493635d",
   "metadata": {},
   "outputs": [
    {
     "name": "stdout",
     "output_type": "stream",
     "text": [
      "Woof!\n"
     ]
    }
   ],
   "source": [
    "class Animal:\n",
    "    def sound(self):\n",
    "        return \"Generic animal sound\"\n",
    "\n",
    "class Dog(Animal):\n",
    "    def sound(self):\n",
    "        return \"Woof!\"\n",
    "\n",
    "class Labrador(Dog):\n",
    "    pass\n",
    "\n",
    "# Creating an object of the Labrador class\n",
    "labrador = Labrador()\n",
    "print(labrador.sound())  # Output: Woof!"
   ]
  },
  {
   "cell_type": "markdown",
   "id": "0ce38c29",
   "metadata": {},
   "source": [
    "#### 4.Hierarchical Inheritance:\n",
    "Hierarchical inheritance involves multiple derived classes inheriting from a single base class. It creates a hierarchical relationship, where multiple subclasses are derived from the same superclass."
   ]
  },
  {
   "cell_type": "code",
   "execution_count": 17,
   "id": "1bda2fce",
   "metadata": {},
   "outputs": [
    {
     "name": "stdout",
     "output_type": "stream",
     "text": [
      "Woof!\n",
      "Meow!\n"
     ]
    }
   ],
   "source": [
    "class Animal:\n",
    "    def sound(self):\n",
    "        return \"Generic animal sound\"\n",
    "\n",
    "class Dog(Animal):\n",
    "    def sound(self):\n",
    "        return \"Woof!\"\n",
    "\n",
    "class Cat(Animal):\n",
    "    def sound(self):\n",
    "        return \"Meow!\"\n",
    "\n",
    "# Creating objects of the Dog and Cat classes\n",
    "dog = Dog()\n",
    "cat = Cat()\n",
    "\n",
    "print(dog.sound())  # Output: Woof!\n",
    "print(cat.sound())  # Output: Meow!"
   ]
  },
  {
   "cell_type": "code",
   "execution_count": null,
   "id": "df4c3f05",
   "metadata": {},
   "outputs": [],
   "source": []
  }
 ],
 "metadata": {
  "kernelspec": {
   "display_name": "Python 3 (ipykernel)",
   "language": "python",
   "name": "python3"
  },
  "language_info": {
   "codemirror_mode": {
    "name": "ipython",
    "version": 3
   },
   "file_extension": ".py",
   "mimetype": "text/x-python",
   "name": "python",
   "nbconvert_exporter": "python",
   "pygments_lexer": "ipython3",
   "version": "3.10.9"
  }
 },
 "nbformat": 4,
 "nbformat_minor": 5
}
