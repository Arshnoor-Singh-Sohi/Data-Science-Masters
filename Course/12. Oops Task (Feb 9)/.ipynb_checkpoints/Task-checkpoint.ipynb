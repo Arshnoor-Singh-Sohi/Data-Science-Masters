{
 "cells": [
  {
   "cell_type": "markdown",
   "id": "00c74ccf",
   "metadata": {},
   "source": [
    "## Q1. Create a vehicle class with an init method having instance variables as name_of_vehicle, max_speed and average_of_vehicle."
   ]
  },
  {
   "cell_type": "code",
   "execution_count": 4,
   "id": "2903eb17",
   "metadata": {},
   "outputs": [
    {
     "name": "stdout",
     "output_type": "stream",
     "text": [
      "Name of Vehicle: Honda\n",
      "Max Speed: 120\n",
      "Average of Vehicle: 60\n"
     ]
    }
   ],
   "source": [
    "class vehicle:\n",
    "    def __init__(self, name_of_vehicle, max_speed, average_of_vehicle):\n",
    "        self.name_of_vehicle = name_of_vehicle\n",
    "        self.max_speed = max_speed\n",
    "        self.average_of_vehicle = average_of_vehicle\n",
    "        \n",
    "car = vehicle(\"Honda\", 120, 60)\n",
    "print(\"Name of Vehicle:\", car.name_of_vehicle)\n",
    "print(\"Max Speed:\", car.max_speed)\n",
    "print(\"Average of Vehicle:\", car.average_of_vehicle)"
   ]
  },
  {
   "cell_type": "markdown",
   "id": "79bcaea9",
   "metadata": {},
   "source": [
    "## Q2.  Create a child class car from the vehicle class created in Que 1, which will inherit the vehicle class. Create a method named seating_capacity which takes capacity as an argument and returns the name of the vehicle and its seating capacity."
   ]
  },
  {
   "cell_type": "code",
   "execution_count": 18,
   "id": "b1b7da20",
   "metadata": {},
   "outputs": [
    {
     "name": "stdout",
     "output_type": "stream",
     "text": [
      "Name of Vehicle: Sedan\n",
      "Max Speed: 180\n",
      "Average of Vehicle: 25\n",
      "Sedan has a seating capacity of 5 passengers.\n"
     ]
    }
   ],
   "source": [
    "class Vehicle:\n",
    "    def __init__(self, name_of_vehicle, max_speed, average_of_vehicle):\n",
    "        self.name_of_vehicle = name_of_vehicle\n",
    "        self.max_speed = max_speed\n",
    "        self.average_of_vehicle = average_of_vehicle\n",
    "\n",
    "class Car(Vehicle):\n",
    "    def __init__(self, name_of_vehicle, max_speed, average_of_vehicle):\n",
    "        super().__init__(name_of_vehicle, max_speed, average_of_vehicle)\n",
    "\n",
    "    def seating_capacity(self, capacity):\n",
    "        return f\"{self.name_of_vehicle} has a seating capacity of {capacity} passengers.\"\n",
    "\n",
    "# Creating an instance of the Car class\n",
    "car1 = Car(\"Sedan\", 180, 25)\n",
    "\n",
    "# Accessing the instance variables of the Car class\n",
    "print(\"Name of Vehicle:\", car1.name_of_vehicle)\n",
    "print(\"Max Speed:\", car1.max_speed)\n",
    "print(\"Average of Vehicle:\", car1.average_of_vehicle)\n",
    "\n",
    "# Using the seating_capacity method\n",
    "capacity = 5\n",
    "print(car1.seating_capacity(capacity))  # Output: Sedan has a seating capacity of 5 passengers."
   ]
  },
  {
   "cell_type": "markdown",
   "id": "83262251",
   "metadata": {},
   "source": [
    "## Q3. What is multiple inheritance? Write a python code to demonstrate multiple inheritance."
   ]
  },
  {
   "cell_type": "markdown",
   "id": "f5fcddac",
   "metadata": {},
   "source": [
    "Multiple inheritance is a feature in object-oriented programming where a class can inherit attributes and methods from multiple parent classes. In Python, you can create a child class that inherits from multiple base classes, allowing it to access the attributes and methods of all its parent classes."
   ]
  },
  {
   "cell_type": "code",
   "execution_count": 20,
   "id": "6d931ec2",
   "metadata": {},
   "outputs": [
    {
     "name": "stdout",
     "output_type": "stream",
     "text": [
      "These are father genes\n",
      "These are mother genes\n",
      "Mixture of both father and nother genes\n"
     ]
    }
   ],
   "source": [
    "class Father:\n",
    "    def father_genes(self):\n",
    "        return \"These are father genes\"\n",
    "class Mother:\n",
    "    def mother_genes(self):\n",
    "        return \"These are mother genes\"\n",
    "class Child(Father, Mother):\n",
    "    def child_genes(self):\n",
    "        return \"Mixture of both father and nother genes\"\n",
    "Arsh = Child()\n",
    "print(Arsh.father_genes())\n",
    "print(Arsh.mother_genes())\n",
    "print(Arsh.child_genes())"
   ]
  },
  {
   "cell_type": "markdown",
   "id": "61f9c092",
   "metadata": {},
   "source": [
    "## Q4. What are getter and setter in python? Create a class and create a getter and a setter method in this class."
   ]
  },
  {
   "cell_type": "markdown",
   "id": "7e0b0ed2",
   "metadata": {},
   "source": [
    "In Python, getters and setters are methods used to get and set the values of class attributes (instance variables) respectively. They are a form of encapsulation that allows you to control how attributes are accessed and modified. The getter method is used to retrieve the value of an attribute, while the setter method is used to modify the value of an attribute with some conditions or validations.\n",
    "\n",
    "#### Getter Method (Accessor):\n",
    "\n",
    "* A getter method returns the value of an attribute.\n",
    "* It is typically used to access the value of a private or protected attribute from outside the class.\n",
    "* The syntax for defining a getter method is to use the @property decorator above the method, followed by the method name.\n",
    "\n",
    "#### Setter Method (Mutator):\n",
    "\n",
    "* A setter method sets the value of an attribute with some conditions or validations.\n",
    "* It allows you to control the modification of attribute values and implement data validation rules.\n",
    "* The syntax for defining a setter method is to use the @method_name.setter decorator above the method, followed by the method name."
   ]
  },
  {
   "cell_type": "code",
   "execution_count": 21,
   "id": "93f2c51d",
   "metadata": {},
   "outputs": [
    {
     "name": "stdout",
     "output_type": "stream",
     "text": [
      "Name: John\n",
      "Age: 25\n",
      "Updated Age: 30\n",
      "Invalid age value. Age must be a non-negative integer.\n"
     ]
    }
   ],
   "source": [
    "class Student:\n",
    "    def __init__(self, name, age):\n",
    "        self.name = name\n",
    "        self.__age = age  # Private attribute with double underscores\n",
    "\n",
    "    # Getter method for age\n",
    "    @property\n",
    "    def age(self):\n",
    "        return self.__age\n",
    "\n",
    "    # Setter method for age\n",
    "    @age.setter\n",
    "    def age(self, new_age):\n",
    "        if isinstance(new_age, int) and new_age >= 0:\n",
    "            self.__age = new_age\n",
    "        else:\n",
    "            print(\"Invalid age value. Age must be a non-negative integer.\")\n",
    "\n",
    "# Creating an instance of the Student class\n",
    "student1 = Student(\"John\", 25)\n",
    "\n",
    "# Accessing the age using the getter method\n",
    "print(\"Name:\", student1.name)\n",
    "print(\"Age:\", student1.age)  # Output: 25\n",
    "\n",
    "# Using the setter method to change the age\n",
    "student1.age = 30\n",
    "print(\"Updated Age:\", student1.age)  # Output: 30\n",
    "\n",
    "# Trying to set an invalid age\n",
    "student1.age = -5  # Output: Invalid age value. Age must be a non-negative integer."
   ]
  },
  {
   "cell_type": "markdown",
   "id": "1e28bc02",
   "metadata": {},
   "source": [
    "## Q5.What is method overriding in python? Write a python code to demonstrate method overriding."
   ]
  },
  {
   "cell_type": "markdown",
   "id": "b02bb74a",
   "metadata": {},
   "source": [
    "* Method overriding is a feature in object-oriented programming where a subclass provides a new implementation for a method that is already defined in its superclass. \n",
    "* When a method is overridden in the subclass, the new implementation in the subclass is used instead of the one in the superclass.\n",
    "\n",
    "* Method overriding allows you to customize the behavior of a method in the subclass, giving it a different functionality while maintaining the same method signature as in the superclass. \n",
    "* This feature enables polymorphism, where a subclass can be treated as its superclass, and the appropriate method is called based on the object's actual type at runtime."
   ]
  },
  {
   "cell_type": "code",
   "execution_count": 22,
   "id": "ced62e0f",
   "metadata": {},
   "outputs": [
    {
     "name": "stdout",
     "output_type": "stream",
     "text": [
      "Dog barks\n",
      "Cat meows\n"
     ]
    }
   ],
   "source": [
    "class Animal:\n",
    "    def speak(self):\n",
    "        return \"Animal speaks\"\n",
    "\n",
    "class Dog(Animal):\n",
    "    def speak(self):\n",
    "        return \"Dog barks\"\n",
    "\n",
    "class Cat(Animal):\n",
    "    def speak(self):\n",
    "        return \"Cat meows\"\n",
    "\n",
    "# Creating instances of Dog and Cat classes\n",
    "dog = Dog()\n",
    "cat = Cat()\n",
    "\n",
    "# Calling the speak method on instances of Dog and Cat\n",
    "print(dog.speak())  # Output: Dog barks\n",
    "print(cat.speak())  # Output: Cat meows"
   ]
  },
  {
   "cell_type": "code",
   "execution_count": null,
   "id": "f403ab2d",
   "metadata": {},
   "outputs": [],
   "source": []
  }
 ],
 "metadata": {
  "kernelspec": {
   "display_name": "Python 3 (ipykernel)",
   "language": "python",
   "name": "python3"
  },
  "language_info": {
   "codemirror_mode": {
    "name": "ipython",
    "version": 3
   },
   "file_extension": ".py",
   "mimetype": "text/x-python",
   "name": "python",
   "nbconvert_exporter": "python",
   "pygments_lexer": "ipython3",
   "version": "3.10.9"
  }
 },
 "nbformat": 4,
 "nbformat_minor": 5
}
