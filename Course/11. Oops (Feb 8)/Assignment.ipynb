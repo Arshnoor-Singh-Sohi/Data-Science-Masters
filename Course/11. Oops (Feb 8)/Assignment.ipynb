{
 "cells": [
  {
   "cell_type": "markdown",
   "id": "ff527937",
   "metadata": {},
   "source": [
    "## Q1. What is Abstraction in OOps? Explain with an example."
   ]
  },
  {
   "cell_type": "markdown",
   "id": "a88944e4",
   "metadata": {},
   "source": [
    "Abstraction is one of the four fundamental principles of Object-Oriented Programming (OOP). It refers to the process of hiding \n",
    "the implementation details of an object and exposing only the relevant characteristics and behaviors to the outside world. In \n",
    "other words, abstraction allows us to focus on what an object does rather than how it does it.\n",
    "\n",
    "In Python, abstraction can be achieved using abstract classes and interfaces. An abstract class is a class that cannot be \n",
    "instantiated and may contain one or more abstract methods, which are methods without an implementation. Abstract classes serve\n",
    "as a blueprint for other classes and define a set of common characteristics and behaviors that subclasses must implement."
   ]
  },
  {
   "cell_type": "code",
   "execution_count": 2,
   "id": "fad6a586",
   "metadata": {},
   "outputs": [
    {
     "name": "stdout",
     "output_type": "stream",
     "text": [
      "Circle Area: 78.5\n",
      "Circle Perimeter: 31.400000000000002\n",
      "Rectangle Area: 24\n",
      "Rectangle Perimeter: 20\n"
     ]
    }
   ],
   "source": [
    "from abc import ABC, abstractmethod\n",
    "\n",
    "# Abstract class representing a Shape\n",
    "class Shape(ABC):\n",
    "\n",
    "    @abstractmethod\n",
    "    def area(self):\n",
    "        pass\n",
    "\n",
    "    @abstractmethod\n",
    "    def perimeter(self):\n",
    "        pass\n",
    "\n",
    "# Concrete class Circle implementing Shape\n",
    "class Circle(Shape):\n",
    "    \n",
    "    def __init__(self, radius):\n",
    "        self.radius = radius\n",
    "\n",
    "    def area(self):\n",
    "        return 3.14 * self.radius * self.radius\n",
    "\n",
    "    def perimeter(self):\n",
    "        return 2 * 3.14 * self.radius\n",
    "\n",
    "# Concrete class Rectangle implementing Shape\n",
    "class Rectangle(Shape):\n",
    "\n",
    "    def __init__(self, length, width):\n",
    "        self.length = length\n",
    "        self.width = width\n",
    "\n",
    "    def area(self):\n",
    "        return self.length * self.width\n",
    "\n",
    "    def perimeter(self):\n",
    "        return 2 * (self.length + self.width)\n",
    "\n",
    "# Creating objects of concrete classes\n",
    "circle = Circle(5)\n",
    "rectangle = Rectangle(4, 6)\n",
    "\n",
    "# Accessing the area and perimeter methods without knowing their internal implementations\n",
    "print(\"Circle Area:\", circle.area())             # Output: Circle Area: 78.5\n",
    "print(\"Circle Perimeter:\", circle.perimeter())   # Output: Circle Perimeter: 31.400000000000002\n",
    "print(\"Rectangle Area:\", rectangle.area())       # Output: Rectangle Area: 24\n",
    "print(\"Rectangle Perimeter:\", rectangle.perimeter())  # Output: Rectangle Perimeter: 20\n"
   ]
  },
  {
   "cell_type": "markdown",
   "id": "dc773695",
   "metadata": {},
   "source": [
    "## Q2. Differentiate between Abstraction and Encapsulation. Explain with an example."
   ]
  },
  {
   "cell_type": "markdown",
   "id": "6bc3931e",
   "metadata": {},
   "source": [
    "### Abstraction:\n",
    "* Abstraction is the process of hiding the implementation details of an object and exposing only the relevant characteristics\n",
    "and behaviors to the outside world. It allows us to focus on what an object does rather than how it does it. \n",
    "* Abstraction is achieved through abstract classes and interfaces, which define a set of common characteristics and behaviors \n",
    "that subclasses must implement.\n",
    "* Abstraction provides a high-level view of an object's functionality, allowing us to work with objects without needing to know\n",
    "the underlying implementation."
   ]
  },
  {
   "cell_type": "code",
   "execution_count": 3,
   "id": "07469464",
   "metadata": {},
   "outputs": [
    {
     "name": "stdout",
     "output_type": "stream",
     "text": [
      "Circle Area: 78.5\n",
      "Circle Perimeter: 31.400000000000002\n",
      "Rectangle Area: 24\n",
      "Rectangle Perimeter: 20\n"
     ]
    }
   ],
   "source": [
    "from abc import ABC, abstractmethod\n",
    "\n",
    "# Abstract class representing a Shape\n",
    "class Shape(ABC):\n",
    "\n",
    "    @abstractmethod\n",
    "    def area(self):\n",
    "        pass\n",
    "\n",
    "    @abstractmethod\n",
    "    def perimeter(self):\n",
    "        pass\n",
    "\n",
    "# Concrete class Circle implementing Shape\n",
    "class Circle(Shape):\n",
    "    \n",
    "    def __init__(self, radius):\n",
    "        self.radius = radius\n",
    "\n",
    "    def area(self):\n",
    "        return 3.14 * self.radius * self.radius\n",
    "\n",
    "    def perimeter(self):\n",
    "        return 2 * 3.14 * self.radius\n",
    "\n",
    "# Concrete class Rectangle implementing Shape\n",
    "class Rectangle(Shape):\n",
    "\n",
    "    def __init__(self, length, width):\n",
    "        self.length = length\n",
    "        self.width = width\n",
    "\n",
    "    def area(self):\n",
    "        return self.length * self.width\n",
    "\n",
    "    def perimeter(self):\n",
    "        return 2 * (self.length + self.width)\n",
    "\n",
    "# Creating objects of concrete classes\n",
    "circle = Circle(5)\n",
    "rectangle = Rectangle(4, 6)\n",
    "\n",
    "# Accessing the area and perimeter methods without knowing their internal implementations\n",
    "print(\"Circle Area:\", circle.area())             # Output: Circle Area: 78.5\n",
    "print(\"Circle Perimeter:\", circle.perimeter())   # Output: Circle Perimeter: 31.400000000000002\n",
    "print(\"Rectangle Area:\", rectangle.area())       # Output: Rectangle Area: 24\n",
    "print(\"Rectangle Perimeter:\", rectangle.perimeter())  # Output: Rectangle Perimeter: 20"
   ]
  },
  {
   "cell_type": "markdown",
   "id": "93370c3e",
   "metadata": {},
   "source": [
    "### Encapsulation:\n",
    "* Encapsulation is the process of bundling data (attributes) and methods (functions) that operate on that data into a single \n",
    "unit called a class. The class acts as a blueprint for creating objects.\n",
    "* Encapsulation provides data hiding, as the internal state of the object is not directly accessible from outside the class. \n",
    "* Instead, access to the object's attributes and methods is controlled through public and private access modifiers. \n",
    "* This protects the data and prevents unauthorized access and modifications."
   ]
  },
  {
   "cell_type": "code",
   "execution_count": 4,
   "id": "2f19b60f",
   "metadata": {},
   "outputs": [
    {
     "name": "stdout",
     "output_type": "stream",
     "text": [
      "Account Balance: 1000\n"
     ]
    }
   ],
   "source": [
    "class BankAccount:\n",
    "\n",
    "    def __init__(self, account_number, balance):\n",
    "        self.account_number = account_number\n",
    "        self.__balance = balance  # Private attribute with double underscores\n",
    "\n",
    "    def get_balance(self):\n",
    "        return self.__balance\n",
    "\n",
    "    def deposit(self, amount):\n",
    "        self.__balance += amount\n",
    "\n",
    "    def withdraw(self, amount):\n",
    "        if amount <= self.__balance:\n",
    "            self.__balance -= amount\n",
    "        else:\n",
    "            print(\"Insufficient funds\")\n",
    "\n",
    "# Creating a BankAccount object\n",
    "account = BankAccount(\"12345\", 1000)\n",
    "\n",
    "# Accessing the balance using the get_balance() method (encapsulation)\n",
    "print(\"Account Balance:\", account.get_balance())  # Output: Account Balance: 1000\n",
    "\n",
    "# Depositing and withdrawing (modifying) the balance using methods (encapsulation)\n",
    "account.deposit(500)\n",
    "account.withdraw(300)\n",
    "\n",
    "# Accessing the balance directly (not recommended due to encapsulation)\n",
    "# This will raise an AttributeError as the attribute is private\n",
    "# print(account.__balance)"
   ]
  },
  {
   "cell_type": "markdown",
   "id": "c74e50ec",
   "metadata": {},
   "source": [
    "## Q3. What is abc module in python? Why is it used?"
   ]
  },
  {
   "cell_type": "markdown",
   "id": "70567133",
   "metadata": {},
   "source": [
    "* The abc module in Python stands for \"Abstract Base Classes.\" \n",
    "* It is a built-in module that provides tools for working with abstract classes and interfaces. \n",
    "* The abc module is part of the Python Standard Library and is used to implement abstract classes and interfaces, which are an essential part of object-oriented programming and help in achieving abstraction and polymorphism.\n",
    "\n",
    "* The main purpose of the abc module is to define abstract base classes, which are classes that cannot be instantiated directly. * Instead, they serve as blueprints for other classes, defining a set of common characteristics and behaviors that their subclasses must implement. \n",
    "* Abstract base classes allow you to define a common interface for a group of related classes without providing a concrete implementation for all their methods.\n",
    "\n",
    "### Key components and functions of the abc module:\n",
    "\n",
    "#### ABC: \n",
    "The ABC class in the abc module is the base class for creating abstract base classes. By inheriting from ABC, a class becomes abstract, and you can define abstract methods within it.\n",
    "\n",
    "#### abstractmethod: \n",
    "The abstractmethod decorator is used to declare abstract methods within an abstract class. Abstract methods are methods without an implementation. Subclasses of the abstract class must provide concrete implementations for all the abstract methods.\n",
    "\n",
    "#### @abstractmethod decorator: \n",
    "This decorator is used to mark a method as abstract. It indicates that the method must be implemented in the concrete subclasses."
   ]
  },
  {
   "cell_type": "markdown",
   "id": "b6dabfdb",
   "metadata": {},
   "source": [
    "## Q4. How can we achieve data abstraction?"
   ]
  },
  {
   "cell_type": "markdown",
   "id": "7a870fac",
   "metadata": {},
   "source": [
    "* Data abstraction can be achieved in Python through the use of classes and objects.\n",
    "* Abstraction allows us to define a simplified interface for interacting with data while hiding the internal details and complexity.\n",
    "* It provides a way to represent real-world entities as objects, each with its own attributes (data) and methods (functions).\n",
    "\n",
    "### Here are the steps to achieve data abstraction in Python:\n",
    "\n",
    "#### * Define a Class:\n",
    "Start by defining a class that represents the abstract data type or entity you want to model. The class should have attributes to store the data related to the entity and methods to perform operations on the data.\n",
    "\n",
    "#### * Access Control: \n",
    "In Python, you can use access control mechanisms like public, protected, and private attributes to control access to data. By convention, attributes and methods with a single leading underscore _ are considered protected, and those with two leading underscores __ are considered private. However, Python does not strictly enforce private or protected access like some other programming languages.\n",
    "\n",
    "#### * Encapsulation: \n",
    "Encapsulation involves bundling data (attributes) and methods together in a class. By encapsulating data within a class, you can control access to the data through getter and setter methods, allowing you to enforce data validation and manipulation rules.\n",
    "\n",
    "#### * Abstraction in Methods: \n",
    "Define methods that provide an interface to interact with the data. These methods should hide the internal details of data manipulation and expose only the relevant functionality to the user."
   ]
  },
  {
   "cell_type": "code",
   "execution_count": 7,
   "id": "a24c7d20",
   "metadata": {},
   "outputs": [
    {
     "name": "stdout",
     "output_type": "stream",
     "text": [
      "Account Balance: 1000\n",
      "Updated Balance: 1500\n",
      "Balance cannot be negative.\n"
     ]
    }
   ],
   "source": [
    "class BankAccount:\n",
    "    def __init__(self, account_number, balance):\n",
    "        self._account_number = account_number\n",
    "        self.__balance = balance\n",
    "\n",
    "    # Getter method for balance\n",
    "    def get_balance(self):\n",
    "        return self.__balance\n",
    "\n",
    "    # Setter method for balance\n",
    "    def set_balance(self, new_balance):\n",
    "        if new_balance >= 0:\n",
    "            self.__balance = new_balance\n",
    "        else:\n",
    "            print(\"Balance cannot be negative.\")\n",
    "\n",
    "    def deposit(self, amount):\n",
    "        self.__balance += amount\n",
    "\n",
    "    def withdraw(self, amount):\n",
    "        if amount <= self.__balance:\n",
    "            self.__balance -= amount\n",
    "        else:\n",
    "            print(\"Insufficient funds\")\n",
    "\n",
    "# Creating an object of BankAccount class\n",
    "account1 = BankAccount(\"12345\", 1000)\n",
    "\n",
    "# Accessing balance using the getter method (abstraction)\n",
    "print(\"Account Balance:\", account1.get_balance())  # Output: Account Balance: 1000\n",
    "\n",
    "# Depositing and withdrawing using methods (abstraction)\n",
    "account1.deposit(500)\n",
    "account1.withdraw(300)\n",
    "\n",
    "# Accessing balance using the setter method (abstraction)\n",
    "account1.set_balance(1500)\n",
    "print(\"Updated Balance:\", account1.get_balance())  # Output: Updated Balance: 1500\n",
    "\n",
    "# Trying to set a negative balance using the setter method (abstraction)\n",
    "account1.set_balance(-500)  # Output: Balance cannot be negative."
   ]
  },
  {
   "cell_type": "markdown",
   "id": "909f9885",
   "metadata": {},
   "source": [
    "## Q5. Can we create an instance of an abstract class? Explain your answer."
   ]
  },
  {
   "cell_type": "markdown",
   "id": "11814d87",
   "metadata": {},
   "source": [
    "* No, we cannot create an instance of an abstract class directly in Python. \n",
    "* Abstract classes are designed to be incomplete and act as blueprints for other classes (concrete classes) to inherit from.\n",
    "* They contain one or more abstract methods, which are methods without an implementation. \n",
    "* Since the abstract class is incomplete, it cannot be instantiated on its own.\n",
    "\n",
    "* Abstract classes are created using the abc module, and they serve as a way to define a common interface that subclasses must adhere to.\n",
    "* Concrete subclasses that inherit from the abstract class must provide concrete implementations for all the abstract methods defined in the abstract class.\n",
    "\n",
    "* Attempting to create an instance of an abstract class will raise an error. \n",
    "* Instead, you should create an instance of a concrete subclass that extends the abstract class and provides implementations for all the abstract methods."
   ]
  },
  {
   "cell_type": "code",
   "execution_count": null,
   "id": "4a6ede33",
   "metadata": {},
   "outputs": [],
   "source": []
  }
 ],
 "metadata": {
  "kernelspec": {
   "display_name": "Python 3 (ipykernel)",
   "language": "python",
   "name": "python3"
  },
  "language_info": {
   "codemirror_mode": {
    "name": "ipython",
    "version": 3
   },
   "file_extension": ".py",
   "mimetype": "text/x-python",
   "name": "python",
   "nbconvert_exporter": "python",
   "pygments_lexer": "ipython3",
   "version": "3.10.9"
  }
 },
 "nbformat": 4,
 "nbformat_minor": 5
}
