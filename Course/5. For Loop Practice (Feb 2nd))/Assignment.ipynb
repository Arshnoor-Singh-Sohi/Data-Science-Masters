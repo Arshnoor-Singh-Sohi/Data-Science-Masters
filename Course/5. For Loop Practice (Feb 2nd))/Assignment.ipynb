{
 "cells": [
  {
   "cell_type": "markdown",
   "id": "0f409816",
   "metadata": {},
   "source": [
    "## Q1.  Explain with an example each when to use a for loop and a while loop\n",
    "\n",
    "The for loop is used when we already know the number of iterations, which means when we know how many times a statement has to be executed. That is why we have to specify the ending point in the for loop initialization. When we need to end the loop on a condition other than the number of times, we use a while loop.\n",
    "\n",
    "### Example of for loop:\n",
    "n = [1, 2, 3]  # Initialization\n",
    "\n",
    "for i in n:  # Condition and Updation\n",
    "\n",
    "    print(i)\n",
    "    \n",
    "### Example of while loop:\n",
    "i = 1  # Initialization\n",
    "\n",
    "while i < 6:  # Condition\n",
    "\n",
    "    print(i)\n",
    "    i += 1  # Updation"
   ]
  },
  {
   "cell_type": "markdown",
   "id": "f9846eac",
   "metadata": {},
   "source": [
    "## Q2.  Write a python program to print the sum and product of the first 10 natural numbers using for and while loop."
   ]
  },
  {
   "cell_type": "code",
   "execution_count": 6,
   "id": "ca3fdfce",
   "metadata": {},
   "outputs": [
    {
     "name": "stdout",
     "output_type": "stream",
     "text": [
      "sum =  55\n",
      "product =  3628800\n"
     ]
    }
   ],
   "source": [
    "#Using For loop\n",
    "sum = 0\n",
    "prod = 1\n",
    "for i in range(11):\n",
    "    sum = sum + i\n",
    "print(\"sum = \" , sum)\n",
    "for i in range(1,11):\n",
    "    prod = prod * i\n",
    "print(\"product = \" , prod)"
   ]
  },
  {
   "cell_type": "code",
   "execution_count": 8,
   "id": "a13322e5",
   "metadata": {},
   "outputs": [
    {
     "name": "stdout",
     "output_type": "stream",
     "text": [
      "sum =  55\n",
      "product =  3628800\n"
     ]
    }
   ],
   "source": [
    "#Using While loop\n",
    "sum = 0\n",
    "i = 1\n",
    "while(i!=11):\n",
    "    sum = sum + i\n",
    "    i = i + 1\n",
    "print(\"sum = \",sum)\n",
    "while(i!=11):\n",
    "    prod = prod * i\n",
    "    i = i + 1\n",
    "print(\"product = \",prod)"
   ]
  },
  {
   "cell_type": "markdown",
   "id": "6245930b",
   "metadata": {},
   "source": [
    "### Q3. Create a python program to compute the electricity bill for a household.\n",
    "### The per-unit charges in rupees are as follows: For the first 100 units, the user will be charged Rs. 4.5 per \n",
    "### unit, for the next 100 units, the user will be charged Rs. 6 per unit, and for the next 100 units, the user will \n",
    "### be charged Rs. 10 per unit, After 300 units and above the user will be charged Rs. 20 per unit.\n",
    "\n",
    "### You are required to take the units of electricity consumed in a month from the user as input.\n",
    "\n",
    "### Your program must pass this test case: when the unit of electricity consumed by the user in a month is \n",
    "### 310, the total electricity bill should be 2250."
   ]
  },
  {
   "cell_type": "code",
   "execution_count": 1,
   "id": "851ad281",
   "metadata": {},
   "outputs": [
    {
     "name": "stdout",
     "output_type": "stream",
     "text": [
      "Enter total number of units310\n",
      "Your total electricity bill is: 2250.0\n"
     ]
    }
   ],
   "source": [
    "TotalBill = 0\n",
    "units = int(input(\"Enter total number of units\"))\n",
    "if units <= 100:\n",
    "    TotalBill = 4.5 * units\n",
    "elif units > 100 and units <= 200:\n",
    "    TotalBill = (100*4.5) + (units-100) * 6\n",
    "elif units > 200 and units <= 300:\n",
    "    TotalBill = (100*4.5) + (100*6) + (units-200) * 10\n",
    "else:\n",
    "    TotalBill = (100*4.5) + (100*6) + (100*10) + (units-300) * 20\n",
    "print(\"Your total electricity bill is: \" + str(TotalBill))    "
   ]
  },
  {
   "cell_type": "markdown",
   "id": "35ab4ff1",
   "metadata": {},
   "source": [
    "## Q4. Create a list of numbers from 1 to 100. Use for loop and while loop to calculate the cube of each number and if the cube of that number is divisible by 4 or 5 then append that number in a list and print that list"
   ]
  },
  {
   "cell_type": "code",
   "execution_count": 4,
   "id": "9b4e46e3",
   "metadata": {},
   "outputs": [
    {
     "data": {
      "text/plain": [
       "[8,\n",
       " 64,\n",
       " 125,\n",
       " 216,\n",
       " 512,\n",
       " 1000,\n",
       " 1728,\n",
       " 2744,\n",
       " 3375,\n",
       " 4096,\n",
       " 5832,\n",
       " 8000,\n",
       " 10648,\n",
       " 13824,\n",
       " 15625,\n",
       " 17576,\n",
       " 21952,\n",
       " 27000,\n",
       " 32768,\n",
       " 39304,\n",
       " 42875,\n",
       " 46656,\n",
       " 54872,\n",
       " 64000,\n",
       " 74088,\n",
       " 85184,\n",
       " 91125,\n",
       " 97336,\n",
       " 110592,\n",
       " 125000,\n",
       " 140608,\n",
       " 157464,\n",
       " 166375,\n",
       " 175616,\n",
       " 195112,\n",
       " 216000,\n",
       " 238328,\n",
       " 262144,\n",
       " 274625,\n",
       " 287496,\n",
       " 314432,\n",
       " 343000,\n",
       " 373248,\n",
       " 405224,\n",
       " 421875,\n",
       " 438976,\n",
       " 474552,\n",
       " 512000,\n",
       " 551368,\n",
       " 592704,\n",
       " 614125,\n",
       " 636056,\n",
       " 681472,\n",
       " 729000,\n",
       " 778688,\n",
       " 830584,\n",
       " 857375,\n",
       " 884736,\n",
       " 941192,\n",
       " 1000000]"
      ]
     },
     "execution_count": 4,
     "metadata": {},
     "output_type": "execute_result"
    }
   ],
   "source": [
    "l = list(range(1,101))\n",
    "l1 = []\n",
    "for i in l:\n",
    "    cube = i*i*i\n",
    "    if cube%4 == 0 or cube%5 == 0:\n",
    "    \tl1.append(cube)\n",
    "l1"
   ]
  },
  {
   "cell_type": "code",
   "execution_count": 5,
   "id": "77927cc3",
   "metadata": {},
   "outputs": [
    {
     "data": {
      "text/plain": [
       "[8,\n",
       " 64,\n",
       " 125,\n",
       " 216,\n",
       " 512,\n",
       " 1000,\n",
       " 1728,\n",
       " 2744,\n",
       " 3375,\n",
       " 4096,\n",
       " 5832,\n",
       " 8000,\n",
       " 10648,\n",
       " 13824,\n",
       " 15625,\n",
       " 17576,\n",
       " 21952,\n",
       " 27000,\n",
       " 32768,\n",
       " 39304,\n",
       " 42875,\n",
       " 46656,\n",
       " 54872,\n",
       " 64000,\n",
       " 74088,\n",
       " 85184,\n",
       " 91125,\n",
       " 97336,\n",
       " 110592,\n",
       " 125000,\n",
       " 140608,\n",
       " 157464,\n",
       " 166375,\n",
       " 175616,\n",
       " 195112,\n",
       " 216000,\n",
       " 238328,\n",
       " 262144,\n",
       " 274625,\n",
       " 287496,\n",
       " 314432,\n",
       " 343000,\n",
       " 373248,\n",
       " 405224,\n",
       " 421875,\n",
       " 438976,\n",
       " 474552,\n",
       " 512000,\n",
       " 551368,\n",
       " 592704,\n",
       " 614125,\n",
       " 636056,\n",
       " 681472,\n",
       " 729000,\n",
       " 778688,\n",
       " 830584,\n",
       " 857375,\n",
       " 884736,\n",
       " 941192,\n",
       " 1000000]"
      ]
     },
     "execution_count": 5,
     "metadata": {},
     "output_type": "execute_result"
    }
   ],
   "source": [
    "####################################\n",
    "l2 = []\n",
    "i = 1\n",
    "while i <= 100:\n",
    "    cube = i*i*i\n",
    "    if cube%4 == 0 or cube%5 == 0:\n",
    "    \tl2.append(cube)\n",
    "    i = i + 1\n",
    "l2"
   ]
  },
  {
   "cell_type": "markdown",
   "id": "6f8cd161",
   "metadata": {},
   "source": [
    "## Q5. Write a program to filter count vowels in the below-given string.\n",
    "## string = \"I want to become a data scientist\""
   ]
  },
  {
   "cell_type": "code",
   "execution_count": 6,
   "id": "ef02ab4a",
   "metadata": {},
   "outputs": [
    {
     "name": "stdout",
     "output_type": "stream",
     "text": [
      "Filtered Vowels: ['i', 'a', 'o', 'e', 'o', 'e', 'a', 'a', 'a', 'i', 'e', 'i']\n",
      "Vowel Count: 12\n"
     ]
    }
   ],
   "source": [
    "count = 0\n",
    "string = \"I want to become a data scientist\"\n",
    "vowels = ['a', 'e', 'i', 'o', 'u']\n",
    "filtered_vowels = list(filter(lambda x: x in vowels, string.lower()))\n",
    "vowel_count = len(filtered_vowels)\n",
    "print(\"Filtered Vowels:\", filtered_vowels)\n",
    "print(\"Vowel Count:\", vowel_count)"
   ]
  },
  {
   "cell_type": "code",
   "execution_count": null,
   "id": "471f6ad8",
   "metadata": {},
   "outputs": [],
   "source": []
  }
 ],
 "metadata": {
  "kernelspec": {
   "display_name": "Python 3 (ipykernel)",
   "language": "python",
   "name": "python3"
  },
  "language_info": {
   "codemirror_mode": {
    "name": "ipython",
    "version": 3
   },
   "file_extension": ".py",
   "mimetype": "text/x-python",
   "name": "python",
   "nbconvert_exporter": "python",
   "pygments_lexer": "ipython3",
   "version": "3.10.9"
  }
 },
 "nbformat": 4,
 "nbformat_minor": 5
}
