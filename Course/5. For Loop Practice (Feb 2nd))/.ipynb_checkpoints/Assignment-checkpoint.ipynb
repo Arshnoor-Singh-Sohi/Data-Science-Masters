{
 "cells": [
  {
   "cell_type": "markdown",
   "id": "0f409816",
   "metadata": {},
   "source": [
    "## Q1.  Explain with an example each when to use a for loop and a while loop\n",
    "\n",
    "The for loop is used when we already know the number of iterations, which means when we know how many times a statement has to be executed. That is why we have to specify the ending point in the for loop initialization. When we need to end the loop on a condition other than the number of times, we use a while loop.\n",
    "\n",
    "### Example of for loop:\n",
    "n = [1, 2, 3]  # Initialization\n",
    "\n",
    "for i in n:  # Condition and Updation\n",
    "\n",
    "    print(i)\n",
    "    \n",
    "### Example of while loop:\n",
    "i = 1  # Initialization\n",
    "\n",
    "while i < 6:  # Condition\n",
    "\n",
    "    print(i)\n",
    "    i += 1  # Updation"
   ]
  },
  {
   "cell_type": "markdown",
   "id": "f9846eac",
   "metadata": {},
   "source": [
    "## Q2.  Write a python program to print the sum and product of the first 10 natural numbers using for and while loop."
   ]
  },
  {
   "cell_type": "code",
   "execution_count": 2,
   "id": "ca3fdfce",
   "metadata": {},
   "outputs": [
    {
     "name": "stdout",
     "output_type": "stream",
     "text": [
      "66\n",
      "39916800\n"
     ]
    }
   ],
   "source": [
    "#Using For loop\n",
    "sum = 0\n",
    "prod = 1\n",
    "for i in range(1,11):\n",
    "    sum = sum + i\n",
    "    prod = prod * i\n",
    "print(sum)\n",
    "print(prod)"
   ]
  },
  {
   "cell_type": "code",
   "execution_count": 2,
   "id": "a13322e5",
   "metadata": {},
   "outputs": [
    {
     "name": "stdout",
     "output_type": "stream",
     "text": [
      "55\n"
     ]
    }
   ],
   "source": [
    "#Using While loop\n",
    "sum = 0\n",
    "i = 1\n",
    "while(i!=11):\n",
    "    sum = sum + i\n",
    "    i = i + 1\n",
    "print(sum) "
   ]
  },
  {
   "cell_type": "markdown",
   "id": "6245930b",
   "metadata": {},
   "source": [
    "### Q3. Create a python program to compute the electricity bill for a household.\n",
    "### The per-unit charges in rupees are as follows: For the first 100 units, the user will be charged Rs. 4.5 per \n",
    "### unit, for the next 100 units, the user will be charged Rs. 6 per unit, and for the next 100 units, the user will \n",
    "### be charged Rs. 10 per unit, After 300 units and above the user will be charged Rs. 20 per unit.\n",
    "\n",
    "### You are required to take the units of electricity consumed in a month from the user as input.\n",
    "\n",
    "### Your program must pass this test case: when the unit of electricity consumed by the user in a month is \n",
    "### 310, the total electricity bill should be 2250."
   ]
  },
  {
   "cell_type": "code",
   "execution_count": 5,
   "id": "851ad281",
   "metadata": {},
   "outputs": [
    {
     "name": "stdout",
     "output_type": "stream",
     "text": [
      "Enter total number of units310\n",
      "Your total electricity bill is: 6200\n"
     ]
    }
   ],
   "source": [
    "TotalBill = 0\n",
    "units = int(input(\"Enter total number of units\"))\n",
    "if units <= 100:\n",
    "    TotalBill = 4.5 * units\n",
    "elif units > 100 and units <= 200:\n",
    "    TotalBill = 6 * units\n",
    "elif units > 200 and units <= 300:\n",
    "    TotalBill = 10 * units\n",
    "else:\n",
    "    TotalBill = 20 * units\n",
    "print(\"Your total electricity bill is: \" + str(TotalBill))    "
   ]
  },
  {
   "cell_type": "markdown",
   "id": "35ab4ff1",
   "metadata": {},
   "source": [
    "## Q4. Create a list of numbers from 1 to 100. Use for loop and while loop to calculate the cube of each number and if the cube of that number is divisible by 4 or 5 then append that number in a list and print that list"
   ]
  },
  {
   "cell_type": "code",
   "execution_count": null,
   "id": "9b4e46e3",
   "metadata": {},
   "outputs": [],
   "source": []
  },
  {
   "cell_type": "markdown",
   "id": "6f8cd161",
   "metadata": {},
   "source": [
    "## Q5. Write a program to filter count vowels in the below-given string.\n",
    "## string = \"I want to become a data scientist\""
   ]
  },
  {
   "cell_type": "code",
   "execution_count": null,
   "id": "ef02ab4a",
   "metadata": {},
   "outputs": [],
   "source": []
  }
 ],
 "metadata": {
  "kernelspec": {
   "display_name": "Python 3 (ipykernel)",
   "language": "python",
   "name": "python3"
  },
  "language_info": {
   "codemirror_mode": {
    "name": "ipython",
    "version": 3
   },
   "file_extension": ".py",
   "mimetype": "text/x-python",
   "name": "python",
   "nbconvert_exporter": "python",
   "pygments_lexer": "ipython3",
   "version": "3.10.9"
  }
 },
 "nbformat": 4,
 "nbformat_minor": 5
}
