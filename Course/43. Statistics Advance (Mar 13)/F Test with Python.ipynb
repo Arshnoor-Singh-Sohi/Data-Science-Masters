{
 "cells": [
  {
   "cell_type": "markdown",
   "id": "14c4c0fa",
   "metadata": {},
   "source": [
    "## F Test with Python"
   ]
  },
  {
   "cell_type": "code",
   "id": "edd60c30",
   "metadata": {
    "ExecuteTime": {
     "end_time": "2024-11-18T05:10:06.568142Z",
     "start_time": "2024-11-18T05:10:06.552500Z"
    }
   },
   "source": [
    "# Evidence to say that two population varinces are not equal.\n",
    "\n",
    "worker1 = [18, 19, 22, 25, 27, 28, 41, 45, 51, 55]\n",
    "worker2 = [14, 15, 15, 17, 18, 22, 25, 25, 27, 34]"
   ],
   "outputs": [],
   "execution_count": 1
  },
  {
   "cell_type": "code",
   "id": "ee2020e6",
   "metadata": {
    "ExecuteTime": {
     "end_time": "2024-11-18T05:10:07.740226Z",
     "start_time": "2024-11-18T05:10:07.471494Z"
    }
   },
   "source": [
    "## Calculating F Test\n",
    "import numpy as np\n",
    "f_test = np.var(worker1) / np.var(worker2)"
   ],
   "outputs": [],
   "execution_count": 2
  },
  {
   "cell_type": "code",
   "id": "c3cdb7a3",
   "metadata": {
    "ExecuteTime": {
     "end_time": "2024-11-18T05:10:10.118374Z",
     "start_time": "2024-11-18T05:10:10.082394Z"
    }
   },
   "source": [
    "f_test"
   ],
   "outputs": [
    {
     "data": {
      "text/plain": [
       "np.float64(4.387122002085506)"
      ]
     },
     "execution_count": 3,
     "metadata": {},
     "output_type": "execute_result"
    }
   ],
   "execution_count": 3
  },
  {
   "cell_type": "code",
   "execution_count": 10,
   "id": "1d4c9c68",
   "metadata": {},
   "outputs": [],
   "source": [
    "## Degree of Freedom\n",
    "df1 = len(worker1) - 1\n",
    "df2 = len(worker2) - 1\n",
    "significance_value = 0.05 # Value given by domain expertise based on the problem you are solving"
   ]
  },
  {
   "cell_type": "code",
   "execution_count": 11,
   "id": "5ccc2180",
   "metadata": {},
   "outputs": [],
   "source": [
    "import scipy.stats as stat"
   ]
  },
  {
   "cell_type": "code",
   "execution_count": 13,
   "id": "384d36bb",
   "metadata": {},
   "outputs": [],
   "source": [
    "critical_value = stat.f.ppf(q = 1 - significance_value, dfn = df1, dfd = df2)"
   ]
  },
  {
   "cell_type": "code",
   "execution_count": 14,
   "id": "ab67e5fe",
   "metadata": {},
   "outputs": [
    {
     "name": "stdout",
     "output_type": "stream",
     "text": [
      "Reject the Null Hypothesis\n"
     ]
    }
   ],
   "source": [
    "if f_test > critical_value:\n",
    "    print(\"Reject the Null Hypothesis\")\n",
    "else:\n",
    "    print(\"We fail to Reject the Null Hypothesis\")"
   ]
  },
  {
   "cell_type": "code",
   "execution_count": null,
   "id": "3ae9223d",
   "metadata": {},
   "outputs": [],
   "source": [
    "## Therefore, Both the performance are different"
   ]
  }
 ],
 "metadata": {
  "kernelspec": {
   "display_name": "Python 3 (ipykernel)",
   "language": "python",
   "name": "python3"
  },
  "language_info": {
   "codemirror_mode": {
    "name": "ipython",
    "version": 3
   },
   "file_extension": ".py",
   "mimetype": "text/x-python",
   "name": "python",
   "nbconvert_exporter": "python",
   "pygments_lexer": "ipython3",
   "version": "3.10.9"
  }
 },
 "nbformat": 4,
 "nbformat_minor": 5
}
