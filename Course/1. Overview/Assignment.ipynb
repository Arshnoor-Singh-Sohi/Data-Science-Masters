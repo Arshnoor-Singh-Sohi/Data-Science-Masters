{
 "cells": [
  {
   "cell_type": "markdown",
   "id": "11f92013",
   "metadata": {},
   "source": [
    "# ------------------------------------------ASSIGNMENT 1----------------------------------------------"
   ]
  },
  {
   "cell_type": "markdown",
   "id": "7b8c81cd",
   "metadata": {},
   "source": [
    "## Q1: Who developed Python programming language?\n",
    "Guido van Rossum"
   ]
  },
  {
   "cell_type": "markdown",
   "id": "c4a8374d",
   "metadata": {},
   "source": [
    "## Q2: Which type of programming does Python support?\n",
    "Python is a multi-paradigm programming language. Object-oriented programming and structured programming are fully supported, and many of their features support functional programming and aspect-oriented programming (including metaprogramming and metaobjects)."
   ]
  },
  {
   "cell_type": "markdown",
   "id": "822084e0",
   "metadata": {},
   "source": [
    "## Q3: Is Python case sensitive when dealing with identifiers?\n",
    "Python Identifiers can only contain letters, digits, and underscores. They must start with a letter or an underscore. Python Identifiers cannot be the same as Python keywords. Python Identifiers are case-sensitive, so \"My\" is different from \"mY\" or \"my\"."
   ]
  },
  {
   "cell_type": "markdown",
   "id": "3d75cabb",
   "metadata": {},
   "source": [
    "## Q4: What is the correct extension of the Python file?\n",
    ".py"
   ]
  },
  {
   "cell_type": "markdown",
   "id": "81702890",
   "metadata": {},
   "source": [
    "## Q5: Is Python code compiled or interpreted?\n",
    "Python is an interpreted language, which means the source code of a Python program is converted into bytecode that is then executed by the Python virtual machine. Python is different from major compiled languages, such as C and C + +, as Python code is not required to be built and linked like code for these languages."
   ]
  },
  {
   "cell_type": "markdown",
   "id": "ebe27b47",
   "metadata": {},
   "source": [
    "## Q6: Name a few blocks of code used to define in python language?\n",
    "The following are blocks: a module, a function body, and a class definition. Each command typed interactively is a block. A script file (a file given as standard input to the interpreter or specified as a command line argument to the interpreter) is a code block."
   ]
  },
  {
   "cell_type": "markdown",
   "id": "9fe8d14c",
   "metadata": {},
   "source": [
    "## Q7: State a character used to give single-line comments in python?\n",
    "We can write a single-line comment by adding a single # character before any statement or line of code."
   ]
  },
  {
   "cell_type": "markdown",
   "id": "0c325506",
   "metadata": {},
   "source": [
    "## Q8: Mention functions which can help us to find the version of python that we are currently working on?\n",
    "To get the Version of the python Interpreter, they are listed as follows:\n",
    "\n",
    "* Using sys.version method\n",
    "* Using python_version() function\n",
    "* Using Python -V command"
   ]
  },
  {
   "cell_type": "markdown",
   "id": "0209f2fc",
   "metadata": {},
   "source": [
    "## Q9: Python supports the creation of anonymous functions at runtime using a construct called____?\n",
    "Python supports to make anonymous functions which are not bound to a name(@ runtime). It uses a construct called \"lambda\" ."
   ]
  },
  {
   "cell_type": "markdown",
   "id": "fe66a8e0",
   "metadata": {},
   "source": [
    "## Q10: What does pip stand for python?\n",
    "#### pip Install Packages\n",
    "Developed in 2008, pip (an acronym of “pip Install Packages”) is today the standard tool for installing Python packages and their dependencies in a secure manner. Most recent distributions of Python come with pip preinstalled. Python 2.7. 9 and Python 3.4 and later versions include pip by default."
   ]
  },
  {
   "cell_type": "markdown",
   "id": "afd670a4",
   "metadata": {},
   "source": [
    "## Q11: Mention a few built-in functions in python?\n",
    "\n",
    "\n",
    "#### Python has a set of built-in functions.\n",
    "\n",
    "### Function---------------------------------Description\n",
    "abs()\t\n",
    "Returns the absolute value of a number\n",
    "\n",
    "all()\t\n",
    "Returns True if all items in an iterable object are true\n",
    "\n",
    "any()\t\n",
    "Returns True if any item in an iterable object is true\n",
    "\n",
    "ascii()\t\n",
    "Returns a readable version of an object. Replaces none-ascii characters with escape character\n",
    "\n",
    "bin()\t\n",
    "Returns the binary version of a number\n",
    "\n",
    "bool()\t\n",
    "Returns the boolean value of the specified object\n",
    "\n",
    "bytearray()\t\n",
    "Returns an array of bytes\n",
    "\n",
    "bytes()\t\n",
    "Returns a bytes object\n",
    "\n",
    "callable()\t\n",
    "Returns True if the specified object is callable, otherwise False\n",
    "\n",
    "chr()\t\n",
    "Returns a character from the specified Unicode code.\n",
    "\n",
    "classmethod()\t\n",
    "Converts a method into a class method\n",
    "\n",
    "compile()\t\n",
    "Returns the specified source as an object, ready to be executed\n",
    "\n",
    "complex()\t\n",
    "Returns a complex number\n",
    "\n",
    "delattr()\t\n",
    "Deletes the specified attribute (property or method) from the specified object\n",
    "\n",
    "dict()\t\n",
    "Returns a dictionary (Array)\n",
    "\n",
    "dir()\t\n",
    "Returns a list of the specified object's properties and methods\n",
    "\n",
    "divmod()\t\n",
    "Returns the quotient and the remainder when argument1 is divided by argument2\n",
    "\n",
    "enumerate()\t\n",
    "Takes a collection (e.g. a tuple) and returns it as an enumerate object\n",
    "\n",
    "eval()\t\n",
    "Evaluates and executes an expression\n",
    "\n",
    "exec()\t\n",
    "Executes the specified code (or object)\n",
    "\n",
    "filter()\t\n",
    "Use a filter function to exclude items in an iterable object\n",
    "\n",
    "float()\t\n",
    "Returns a floating point number\n",
    "\n",
    "format()\t\n",
    "Formats a specified value\n",
    "\n",
    "frozenset()\n",
    "Returns a frozenset object\n",
    "\n",
    "getattr()\t\n",
    "Returns the value of the specified attribute (property or method)\n",
    "\n",
    "globals()\t\n",
    "Returns the current global symbol table as a dictionary\n",
    "\n",
    "hasattr()\t\n",
    "Returns True if the specified object has the specified attribute (property/method)\n",
    "\n",
    "hash()\t\n",
    "Returns the hash value of a specified object\n",
    "\n",
    "help()\t\n",
    "Executes the built-in help system\n",
    "\n",
    "hex()\t\n",
    "Converts a number into a hexadecimal value\n",
    "\n",
    "id()\t\n",
    "Returns the id of an object\n",
    "\n",
    "input()\t\n",
    "Allowing user input\n",
    "\n",
    "int()\t\n",
    "Returns an integer number\n",
    "\n",
    "isinstance()\t\n",
    "Returns True if a specified object is an instance of a specified object\n",
    "\n",
    "issubclass()\t\n",
    "Returns True if a specified class is a subclass of a specified object\n",
    "\n",
    "iter()\n",
    "Returns an iterator object\n",
    "\n",
    "len()\t\n",
    "Returns the length of an object\n",
    "\n",
    "list()\t\n",
    "Returns a list\n",
    "\n",
    "locals()\t\n",
    "Returns an updated dictionary of the current local symbol table\n",
    "\n",
    "map()\t\n",
    "Returns the specified iterator with the specified function applied to each item\n",
    "\n",
    "max()\t\n",
    "Returns the largest item in an iterable\n",
    "\n",
    "memoryview()\t\n",
    "Returns a memory view object\n",
    "\n",
    "min()\t\n",
    "Returns the smallest item in an iterable\n",
    "\n",
    "next()\t\n",
    "Returns the next item in an iterable\n",
    "\n",
    "object()\tReturns a new object\n",
    "\n",
    "oct()\t\n",
    "Converts a number into an octal\n",
    "\n",
    "open()\t\n",
    "Opens a file and returns a file object\n",
    "\n",
    "ord()\t\n",
    "Convert an integer representing the Unicode of the specified character\n",
    "\n",
    "pow()\t\n",
    "Returns the value of x to the power of y\n",
    "\n",
    "print()\t\n",
    "Prints to the standard output device\n",
    "\n",
    "property()\t\n",
    "Gets, sets, deletes a property\n",
    "\n",
    "range()\t\n",
    "Returns a sequence of numbers, starting from 0 and increments by 1 (by default)\n",
    "\n",
    "repr()\t\n",
    "Returns a readable version of an object\n",
    "\n",
    "reversed()\t\n",
    "Returns a reversed iterator\n",
    "\n",
    "round()\n",
    "Rounds a numbers\n",
    "\n",
    "set()\t\n",
    "Returns a new set object\n",
    "\n",
    "setattr()\t\n",
    "Sets an attribute (property/method) of an object\n",
    "\n",
    "slice()\t\n",
    "Returns a slice object\n",
    "\n",
    "sorted()\t\n",
    "Returns a sorted list\n",
    "\n",
    "staticmethod()\t\n",
    "Converts a method into a static method\n",
    "\n",
    "str()\t\n",
    "Returns a string object\n",
    "\n",
    "sum()\t\n",
    "Sums the items of an iterator\n",
    "\n",
    "super()\t\n",
    "Returns an object that represents the parent class\n",
    "\n",
    "tuple()\t\n",
    "Returns a tuple\n",
    "\n",
    "type()\t\n",
    "Returns the type of an object\n",
    "\n",
    "vars()\t\n",
    "Returns the __dict__ property of an object\n",
    "\n",
    "zip()\t\n",
    "Returns an iterator, from two or more iterators\n"
   ]
  },
  {
   "cell_type": "markdown",
   "id": "35e789ad",
   "metadata": {},
   "source": [
    "## Q12: What is the maximum possible length of an identifier in python?\n",
    "#### 79 characters\n",
    "An identifier can have a maximum length of 79 characters in Python. Python is one of the most popular programming languages."
   ]
  },
  {
   "cell_type": "markdown",
   "id": "d4ad133e",
   "metadata": {},
   "source": [
    "## Q13: What are the benefits of using python?\n",
    "###### -> Data science.\n",
    "###### -> Scientific and mathematical computing.\n",
    "###### -> Web development.\n",
    "###### -> Finance and trading.\n",
    "###### -> System automation and administration.\n",
    "###### -> Computer graphics.\n",
    "###### -> Basic game development.\n",
    "###### -> Security and penetration testing."
   ]
  },
  {
   "cell_type": "markdown",
   "id": "29b8e4e4",
   "metadata": {},
   "source": [
    "## Q14: How is memory managed in python?\n",
    "Memory management in Python involves a private heap containing all Python objects and data structures. The management of this private heap is ensured internally by the Python memory manager."
   ]
  },
  {
   "cell_type": "markdown",
   "id": "eca7e0e7",
   "metadata": {},
   "source": [
    "## Q15: How to install python on windows and set path variable?\n",
    "Install python from this link https://www.python.org/downloads/\n",
    "After this, install it on your PC. Look for the location where PYTHON has been installed on your PC using the following command on your command prompt: cmd python.\n",
    "\n",
    "The complete path of python.exe can be added by:\n",
    "\n",
    "1.Right-clicking This PC and going to Properties.\n",
    "\n",
    "2.Clicking on the Advanced system settings in the menu on the left.\n",
    "\n",
    "3.Clicking on the Environment Variables button o​n the bottom right.\n",
    "\n",
    "4.In the System variables section, selecting the Path variable and clicking on Edit. The next screen will show all the directories that are currently a part of the PATH variable.\n",
    "\n",
    "5.Clicking on New and entering Python’s install directory."
   ]
  },
  {
   "cell_type": "markdown",
   "id": "26b7109a",
   "metadata": {},
   "source": [
    "## Q16: Is indentation required in python?\n",
    "Indentation refers to the spaces at the beginning of a code line. Where in other programming languages the indentation in code is for readability only, the indentation in Python is very important. Python uses indentation to indicate a block of code."
   ]
  },
  {
   "cell_type": "code",
   "execution_count": null,
   "id": "603067dc",
   "metadata": {},
   "outputs": [],
   "source": []
  }
 ],
 "metadata": {
  "kernelspec": {
   "display_name": "Python 3 (ipykernel)",
   "language": "python",
   "name": "python3"
  },
  "language_info": {
   "codemirror_mode": {
    "name": "ipython",
    "version": 3
   },
   "file_extension": ".py",
   "mimetype": "text/x-python",
   "name": "python",
   "nbconvert_exporter": "python",
   "pygments_lexer": "ipython3",
   "version": "3.9.13"
  }
 },
 "nbformat": 4,
 "nbformat_minor": 5
}
