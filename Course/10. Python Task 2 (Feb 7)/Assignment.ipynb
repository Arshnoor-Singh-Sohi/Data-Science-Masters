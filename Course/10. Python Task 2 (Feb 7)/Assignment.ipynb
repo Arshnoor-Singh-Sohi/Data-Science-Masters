{
 "cells": [
  {
   "cell_type": "markdown",
   "id": "c22d22e1",
   "metadata": {},
   "source": [
    "Q1. You are writing code for a company. The requirement of the company is that you create a python \n",
    "function that will check whether the password entered by the user is correct or not. The function should \n",
    "take the password as input and return the string “Valid Password” if the entered password follows the \n",
    "below-given password guidelines else it should return “Invalid Password”.\n",
    "\n",
    "\n",
    "Note: 1. The Password should contain at least two uppercase letters and at least two lowercase letters.\n",
    "\n",
    "2. The Password should contain at least a number and three special characters.\n",
    "\n",
    "3. The length of the password should be 10 characters long."
   ]
  },
  {
   "cell_type": "code",
   "execution_count": 14,
   "id": "e5b3a07a",
   "metadata": {},
   "outputs": [
    {
     "name": "stdout",
     "output_type": "stream",
     "text": [
      "Valid Password\n"
     ]
    }
   ],
   "source": [
    "#Solution 1\n",
    "def checkPassword(password):\n",
    "    upperCase = lowerCase = number = specialChars = length = 0\n",
    "    if len(password) != 10:\n",
    "        return 'Invalid Password'\n",
    "    for char in password:\n",
    "        if(ord(char) >= 65 and ord(char) <= 90):\n",
    "            upperCase = upperCase + 1\n",
    "        elif(ord(char) >= 97 and ord(char) <= 122):\n",
    "            lowerCase = lowerCase + 1\n",
    "        elif(char.isnumeric()):\n",
    "            number = number + 1\n",
    "        elif(ord(char) >= 32 and ord(char) <= 47 or ord(char) >= 58 and ord(char) <= 64\n",
    "               or ord(char) >= 91 and ord(char) <= 96 and ord(char) >= 123 and ord(char) <= 126):#32–47 / 58–64 / 91–96 / 123–126\n",
    "            specialChars = specialChars + 1\n",
    "    if(upperCase>=2 and lowerCase>=2 and number and specialChars==3):\n",
    "        return 'Valid Password'\n",
    "    else:\n",
    "        return 'Invalid Password'\n",
    "print(checkPassword(\"HHey$%#1uu\"))"
   ]
  },
  {
   "cell_type": "code",
   "execution_count": 19,
   "id": "2d2a6204",
   "metadata": {},
   "outputs": [
    {
     "name": "stdout",
     "output_type": "stream",
     "text": [
      "Valid Password\n",
      "Invalid Password\n",
      "Invalid Password\n",
      "Invalid Password\n",
      "Invalid Password\n"
     ]
    }
   ],
   "source": [
    "#Solution 2\n",
    "import re\n",
    "\n",
    "def check_password(password):\n",
    "    # Define the regular expressions for each password requirement\n",
    "    uppercase_regex = r'[A-Z].*[A-Z]'\n",
    "    lowercase_regex = r'[a-z].*[a-z]'\n",
    "    number_regex = r'\\d'\n",
    "    special_char_regex = r'[!@#$%^&*()-_=+`~\\[\\]{}|;:\",<.>/?]{3}'\n",
    "    length_regex = r'^.{10}$'\n",
    "\n",
    "    # Check if the password meets all the requirements using regular expressions\n",
    "    if (re.search(uppercase_regex, password) and\n",
    "        re.search(lowercase_regex, password) and\n",
    "        re.search(number_regex, password) and\n",
    "        re.search(special_char_regex, password) and\n",
    "        re.match(length_regex, password)):\n",
    "        return \"Valid Password\"\n",
    "    else:\n",
    "        return \"Invalid Password\"\n",
    "\n",
    "# Test the function with sample passwords\n",
    "password1 = \"HHey$%#1uu\"\n",
    "password2 = \"abcdE@12\"\n",
    "password3 = \"abcde@12345\"\n",
    "password4 = \"ABCDE@12345\"\n",
    "password5 = \"Abcde@1234\"\n",
    "\n",
    "print(check_password(password1))  # Output: Valid Password\n",
    "print(check_password(password2))  # Output: Invalid Password\n",
    "print(check_password(password3))  # Output: Invalid Password\n",
    "print(check_password(password4))  # Output: Invalid Password\n",
    "print(check_password(password5))  # Output: Invalid Password"
   ]
  },
  {
   "cell_type": "markdown",
   "id": "551f0939",
   "metadata": {},
   "source": [
    "Q2. Solve the below-given questions using at least one of the following: \n",
    "\n",
    "1. Lambda function\n",
    "2. Filter function\n",
    "3. Map function\n",
    "4. List Comprehension\n",
    "B Check if the string starts with a particular letter.\n",
    "B Check if the string is numeric.\n",
    "B Sort a list of tuples having fruit names and their quantity. [(\"mango\",99),(\"orange\",80), (\"grapes\", 1000)]\n",
    "B Find the squares of numbers from 1 to 10\n",
    "B Find the cube root of numbers from 1 to 10\n",
    "B Check if a given number is even\n",
    "B Filter odd numbers from the given list.\n",
    "\n",
    " [1,2,3,4,5,6,7,8,9,10]\n",
    "B Sort a list of integers into positive and negative integers lists.\n",
    "\n",
    " [1,2,3,4,5,6,-1,-2,-3,-4,-5,0]"
   ]
  },
  {
   "cell_type": "code",
   "execution_count": 23,
   "id": "db208a99",
   "metadata": {},
   "outputs": [
    {
     "data": {
      "text/plain": [
       "True"
      ]
     },
     "execution_count": 23,
     "metadata": {},
     "output_type": "execute_result"
    }
   ],
   "source": [
    "#Check if the string starts with a particular letter\n",
    "input_string = \"Hello, world!\"\n",
    "letter_to_check = \"H\"\n",
    "check_start_with_letter  = lambda input_string,letter_to_check : input_string.startswith(letter_to_check)\n",
    "check_start_with_letter(input_string, letter_to_check)"
   ]
  },
  {
   "cell_type": "code",
   "execution_count": 25,
   "id": "1eccb83f",
   "metadata": {},
   "outputs": [
    {
     "data": {
      "text/plain": [
       "True"
      ]
     },
     "execution_count": 25,
     "metadata": {},
     "output_type": "execute_result"
    }
   ],
   "source": [
    "#Check if the string is numeric\n",
    "input_string = \"1234567890\"\n",
    "check_start_with_letter  = lambda input_string : input_string.isnumeric()\n",
    "check_start_with_letter(input_string)"
   ]
  },
  {
   "cell_type": "code",
   "execution_count": 26,
   "id": "26d7065c",
   "metadata": {},
   "outputs": [
    {
     "name": "stdout",
     "output_type": "stream",
     "text": [
      "[('orange', 80), ('mango', 99), ('grapes', 1000)]\n"
     ]
    }
   ],
   "source": [
    "#Sort a list of tuples having fruit names and their quantity. [(\"mango\",99),(\"orange\",80), (\"grapes\", 1000)]\n",
    "fruits = [(\"mango\", 99), (\"orange\", 80), (\"grapes\", 1000)]\n",
    "sorted_fruits = sorted(fruits, key = lambda x:x[1])\n",
    "print(sorted_fruits)"
   ]
  },
  {
   "cell_type": "code",
   "execution_count": 27,
   "id": "4727e220",
   "metadata": {},
   "outputs": [
    {
     "name": "stdout",
     "output_type": "stream",
     "text": [
      "[1, 4, 9, 16, 25, 36, 49, 64, 81, 100]\n"
     ]
    }
   ],
   "source": [
    "#Find the squares of numbers from 1 to 10\n",
    "squares = [num**2 for num in range(1, 11)]\n",
    "print(squares)"
   ]
  },
  {
   "cell_type": "code",
   "execution_count": 28,
   "id": "7cf3a285",
   "metadata": {},
   "outputs": [
    {
     "name": "stdout",
     "output_type": "stream",
     "text": [
      "[1.0, 1.2599210498948732, 1.4422495703074083, 1.5874010519681994, 1.7099759466766968, 1.8171205928321397, 1.912931182772389, 2.0, 2.080083823051904, 2.154434690031884]\n"
     ]
    }
   ],
   "source": [
    "#Find the cube root of numbers from 1 to 10\n",
    "cube_roots = [pow(num, 1/3) for num in range(1, 11)]\n",
    "print(cube_roots)"
   ]
  },
  {
   "cell_type": "code",
   "execution_count": 33,
   "id": "60d36468",
   "metadata": {},
   "outputs": [
    {
     "name": "stdout",
     "output_type": "stream",
     "text": [
      "False\n"
     ]
    }
   ],
   "source": [
    "#Check if a given number is even\n",
    "ans = lambda num: num % 2 == 0\n",
    "print(ans(5))"
   ]
  },
  {
   "cell_type": "code",
   "execution_count": 34,
   "id": "20ba6109",
   "metadata": {},
   "outputs": [
    {
     "data": {
      "text/plain": [
       "[1, 3, 5, 7, 9]"
      ]
     },
     "execution_count": 34,
     "metadata": {},
     "output_type": "execute_result"
    }
   ],
   "source": [
    "#Filter odd numbers from the given list. [1,2,3,4,5,6,7,8,9,10]\n",
    "l1 = [1,2,3,4,5,6,7,8,9,10]\n",
    "list(filter(lambda x : x % 2 != 0, l1))"
   ]
  },
  {
   "cell_type": "code",
   "execution_count": 37,
   "id": "787c3050",
   "metadata": {},
   "outputs": [
    {
     "name": "stdout",
     "output_type": "stream",
     "text": [
      "[1, 2, 3, 4, 5, 6]\n",
      "[-1, -2, -3, -4, -5]\n"
     ]
    }
   ],
   "source": [
    "#Sort a list of integers into positive and negative integers lists.\n",
    "numbers_list = [1,2,3,4,5,6,-1,-2,-3,-4,-5,0]\n",
    "positive_integers = [num for num in numbers_list if num > 0]\n",
    "negative_integers = [num for num in numbers_list if num < 0]\n",
    "print(positive_integers)\n",
    "print(negative_integers)"
   ]
  },
  {
   "cell_type": "code",
   "execution_count": null,
   "id": "7c20daef",
   "metadata": {},
   "outputs": [],
   "source": []
  }
 ],
 "metadata": {
  "kernelspec": {
   "display_name": "Python 3 (ipykernel)",
   "language": "python",
   "name": "python3"
  },
  "language_info": {
   "codemirror_mode": {
    "name": "ipython",
    "version": 3
   },
   "file_extension": ".py",
   "mimetype": "text/x-python",
   "name": "python",
   "nbconvert_exporter": "python",
   "pygments_lexer": "ipython3",
   "version": "3.10.9"
  }
 },
 "nbformat": 4,
 "nbformat_minor": 5
}
