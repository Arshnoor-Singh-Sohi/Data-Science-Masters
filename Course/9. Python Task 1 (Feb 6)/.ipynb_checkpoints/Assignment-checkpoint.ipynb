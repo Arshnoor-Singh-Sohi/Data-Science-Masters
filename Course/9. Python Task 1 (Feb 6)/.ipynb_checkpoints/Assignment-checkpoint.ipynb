{
 "cells": [
  {
   "cell_type": "markdown",
   "id": "110a6a33",
   "metadata": {},
   "source": [
    "Q1. Create a function which will take a list as an argument and return the product of all the numbers \n",
    "after creating a flat list.\n",
    "\n",
    "Use the below-given list as an argument for your function.\n",
    "\n",
    "\n",
    "list1 = [1,2,3,4, [44,55,66, True], False, (34,56,78,89,34), {1,2,3,3,2,1}, {1:34, \"key2\": [55, 67, 78, 89], 4: (45, \n",
    "22, 61, 34)}, [56, 'data science'], 'Machine Learning']\n",
    "\n",
    "\n",
    "Note: you must extract numeric keys and values of the dictionary also."
   ]
  },
  {
   "cell_type": "code",
   "execution_count": 37,
   "id": "a0145ea5",
   "metadata": {},
   "outputs": [
    {
     "name": "stdout",
     "output_type": "stream",
     "text": [
      "Flattend List->\n",
      "[1, 2, 3, 4, 44, 55, 66, True, False, 34, 56, 78, 89, 34, 1, 2, 3, 1, 34, 55, 67, 78, 89, 4, 45, 22, 61, 34, 56, 'data science', 'Machine Learning']\n",
      "\n",
      "Product of all numeric elements in the flat list: 4134711838987085478833841242112000\n"
     ]
    }
   ],
   "source": [
    "def flatten_and_calculate_product(lst):\n",
    "    def flatten_list(input_list):\n",
    "        flat_list = []\n",
    "        for item in input_list:\n",
    "            if isinstance(item, (list, tuple, set)):\n",
    "                flat_list.extend(flatten_list(item))\n",
    "            elif isinstance(item, dict):\n",
    "                for key, value in item.items():\n",
    "                    if isinstance(key, (int, float)):\n",
    "                        flat_list.append(key)\n",
    "                    if isinstance(value, (list, tuple, set)):\n",
    "                        flat_list.extend(flatten_list(value))\n",
    "                    else:\n",
    "                        flat_list.append(value)\n",
    "            else:\n",
    "                flat_list.append(item)\n",
    "        return flat_list\n",
    "\n",
    "    flat_lst = flatten_list(lst)\n",
    "    print(\"Flattend List->\")\n",
    "    print(flat_lst)\n",
    "\n",
    "    # Calculate the product of all numeric elements in the flat list\n",
    "    product = 1\n",
    "    for item in flat_lst:\n",
    "        if type(item) == int:\n",
    "            product = product * item\n",
    "\n",
    "    return product\n",
    "\n",
    "# Test with the given list\n",
    "list1 = [1, 2, 3, 4, [44, 55, 66, True], False, (34, 56, 78, 89, 34), {1, 2, 3, 3, 2, 1}, {1: 34, \"key2\": [55, 67, 78, 89], 4: (45, 22, 61, 34)}, [56, 'data science'], 'Machine Learning']\n",
    "\n",
    "result = flatten_and_calculate_product(list1)\n",
    "print()\n",
    "print(\"Product of all numeric elements in the flat list:\", result)\n"
   ]
  },
  {
   "cell_type": "markdown",
   "id": "dd9dc581",
   "metadata": {},
   "source": [
    "Q2. Write a python program for encrypting a message sent to you by your friend. The logic of encryption \n",
    "should be such that, for a the output should be z. For b, the output should be y. For c, the output should \n",
    "be x respectively. Also, the whitespace should be replaced with a dollar sign. Keep the punctuation \n",
    "marks unchanged.\n",
    "\n",
    "\n",
    "Input Sentence: I want to become a Data Scientist.\n",
    "\n",
    "\n",
    "Encrypt the above input sentence using the program you just created.\n",
    "\n",
    "\n",
    "Note: Convert the given input sentence into lowercase before encrypting. The final output should be \n",
    "lowercase."
   ]
  },
  {
   "cell_type": "code",
   "execution_count": 8,
   "id": "7130b2a6",
   "metadata": {},
   "outputs": [
    {
     "name": "stdout",
     "output_type": "stream",
     "text": [
      "r$dzmg$gl$yvxlnv$z$wzgz$hxrvmgrhg­\n"
     ]
    }
   ],
   "source": [
    "def encrypt(sentence):\n",
    "    ans = \"\"\n",
    "    sentence  = sentence.lower()\n",
    "    for char in sentence:\n",
    "        if char == \" \":\n",
    "            ans = ans + '$'\n",
    "        else:\n",
    "            ans = ans + chr(ord('a') + (ord('z') - ord(char)))\n",
    "    return ans\n",
    "sentence = encrypt(\"I want to become a Data Scientist.\")\n",
    "print(sentence)"
   ]
  },
  {
   "cell_type": "code",
   "execution_count": null,
   "id": "b2fe8acc",
   "metadata": {},
   "outputs": [],
   "source": [
    "#########################################################END####################################################################"
   ]
  },
  {
   "cell_type": "code",
   "execution_count": null,
   "id": "194f88f9",
   "metadata": {},
   "outputs": [],
   "source": []
  },
  {
   "cell_type": "code",
   "execution_count": null,
   "id": "256b6d64",
   "metadata": {},
   "outputs": [],
   "source": []
  },
  {
   "cell_type": "code",
   "execution_count": null,
   "id": "9865b067",
   "metadata": {},
   "outputs": [],
   "source": []
  },
  {
   "cell_type": "code",
   "execution_count": null,
   "id": "cf78625c",
   "metadata": {},
   "outputs": [],
   "source": []
  },
  {
   "cell_type": "code",
   "execution_count": null,
   "id": "462682a1",
   "metadata": {},
   "outputs": [],
   "source": []
  },
  {
   "cell_type": "code",
   "execution_count": null,
   "id": "5b9ead45",
   "metadata": {},
   "outputs": [],
   "source": []
  },
  {
   "cell_type": "code",
   "execution_count": null,
   "id": "047c26d5",
   "metadata": {},
   "outputs": [],
   "source": []
  },
  {
   "cell_type": "code",
   "execution_count": null,
   "id": "07f6a4d1",
   "metadata": {},
   "outputs": [],
   "source": []
  },
  {
   "cell_type": "code",
   "execution_count": null,
   "id": "b64c1039",
   "metadata": {},
   "outputs": [],
   "source": []
  },
  {
   "cell_type": "code",
   "execution_count": null,
   "id": "184421bf",
   "metadata": {},
   "outputs": [],
   "source": []
  },
  {
   "cell_type": "code",
   "execution_count": null,
   "id": "c470bf1d",
   "metadata": {},
   "outputs": [],
   "source": []
  },
  {
   "cell_type": "code",
   "execution_count": null,
   "id": "03aa1fd0",
   "metadata": {},
   "outputs": [],
   "source": []
  },
  {
   "cell_type": "code",
   "execution_count": null,
   "id": "a7d39b0a",
   "metadata": {},
   "outputs": [],
   "source": []
  },
  {
   "cell_type": "code",
   "execution_count": null,
   "id": "3a4ab098",
   "metadata": {},
   "outputs": [],
   "source": []
  },
  {
   "cell_type": "code",
   "execution_count": null,
   "id": "8d1589b4",
   "metadata": {},
   "outputs": [],
   "source": []
  },
  {
   "cell_type": "code",
   "execution_count": null,
   "id": "7fe0fa34",
   "metadata": {},
   "outputs": [],
   "source": []
  },
  {
   "cell_type": "code",
   "execution_count": null,
   "id": "b76a6529",
   "metadata": {},
   "outputs": [],
   "source": []
  },
  {
   "cell_type": "code",
   "execution_count": null,
   "id": "c28be99a",
   "metadata": {},
   "outputs": [],
   "source": []
  },
  {
   "cell_type": "code",
   "execution_count": null,
   "id": "deb531ce",
   "metadata": {},
   "outputs": [],
   "source": []
  },
  {
   "cell_type": "code",
   "execution_count": null,
   "id": "75d4b50a",
   "metadata": {},
   "outputs": [],
   "source": []
  },
  {
   "cell_type": "code",
   "execution_count": null,
   "id": "3efe8ab2",
   "metadata": {},
   "outputs": [],
   "source": []
  },
  {
   "cell_type": "code",
   "execution_count": null,
   "id": "b54b6bc3",
   "metadata": {},
   "outputs": [],
   "source": []
  },
  {
   "cell_type": "code",
   "execution_count": null,
   "id": "f7847fb2",
   "metadata": {},
   "outputs": [],
   "source": []
  },
  {
   "cell_type": "code",
   "execution_count": null,
   "id": "3f4561c0",
   "metadata": {},
   "outputs": [],
   "source": []
  },
  {
   "cell_type": "code",
   "execution_count": null,
   "id": "3653cad8",
   "metadata": {},
   "outputs": [],
   "source": []
  },
  {
   "cell_type": "code",
   "execution_count": null,
   "id": "95058bd1",
   "metadata": {},
   "outputs": [],
   "source": []
  },
  {
   "cell_type": "code",
   "execution_count": null,
   "id": "897728e8",
   "metadata": {},
   "outputs": [],
   "source": []
  },
  {
   "cell_type": "code",
   "execution_count": null,
   "id": "d527adfc",
   "metadata": {},
   "outputs": [],
   "source": []
  },
  {
   "cell_type": "code",
   "execution_count": null,
   "id": "c1f4d7b4",
   "metadata": {},
   "outputs": [],
   "source": []
  },
  {
   "cell_type": "code",
   "execution_count": null,
   "id": "aca2c6be",
   "metadata": {},
   "outputs": [],
   "source": []
  },
  {
   "cell_type": "code",
   "execution_count": null,
   "id": "c77e2735",
   "metadata": {},
   "outputs": [],
   "source": []
  },
  {
   "cell_type": "code",
   "execution_count": null,
   "id": "047d2b2f",
   "metadata": {},
   "outputs": [],
   "source": []
  },
  {
   "cell_type": "code",
   "execution_count": null,
   "id": "03cffac5",
   "metadata": {},
   "outputs": [],
   "source": []
  },
  {
   "cell_type": "code",
   "execution_count": null,
   "id": "8d123aad",
   "metadata": {},
   "outputs": [],
   "source": []
  },
  {
   "cell_type": "code",
   "execution_count": null,
   "id": "c5e2975f",
   "metadata": {},
   "outputs": [],
   "source": [
    "#personal notes"
   ]
  },
  {
   "cell_type": "code",
   "execution_count": null,
   "id": "240bf8f4",
   "metadata": {},
   "outputs": [],
   "source": [
    "def encrypt_message(message):\n",
    "    encrypted_message = \"\"\n",
    "    for char in message:\n",
    "        # Check if the character is a lowercase alphabet\n",
    "        if char.isalpha() and char.islower():\n",
    "            encrypted_char = chr(ord('a') + (ord('z') - ord(char)))\n",
    "        # Check if the character is a whitespace\n",
    "        elif char.isspace():\n",
    "            encrypted_char = '$'\n",
    "        else:\n",
    "            encrypted_char = char\n",
    "        encrypted_message += encrypted_char\n",
    "    return encrypted_message\n",
    "\n",
    "# Input sentence\n",
    "input_sentence = \"I want to become a Data Scientist.\"\n",
    "\n",
    "# Convert the input sentence to lowercase\n",
    "input_sentence_lower = input_sentence.lower()\n",
    "\n",
    "# Encrypt the input sentence\n",
    "encrypted_sentence = encrypt_message(input_sentence_lower)\n",
    "\n",
    "print(\"Encrypted Sentence:\", encrypted_sentence)\n"
   ]
  }
 ],
 "metadata": {
  "kernelspec": {
   "display_name": "Python 3 (ipykernel)",
   "language": "python",
   "name": "python3"
  },
  "language_info": {
   "codemirror_mode": {
    "name": "ipython",
    "version": 3
   },
   "file_extension": ".py",
   "mimetype": "text/x-python",
   "name": "python",
   "nbconvert_exporter": "python",
   "pygments_lexer": "ipython3",
   "version": "3.10.9"
  }
 },
 "nbformat": 4,
 "nbformat_minor": 5
}
