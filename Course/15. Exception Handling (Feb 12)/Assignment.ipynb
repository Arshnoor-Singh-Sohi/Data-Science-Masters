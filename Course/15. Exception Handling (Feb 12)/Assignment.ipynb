{
 "cells": [
  {
   "cell_type": "markdown",
   "id": "b03f8d84",
   "metadata": {},
   "source": [
    "## Q1. What is an Exception in python? Write the difference between Exceptions and Syntax errors."
   ]
  },
  {
   "cell_type": "markdown",
   "id": "bd0c3bea",
   "metadata": {},
   "source": [
    "In Python, an exception is an event or condition that occurs during the execution of a program and disrupts the normal flow of the program's instructions. When an exception occurs, Python generates an exception object that contains information about the error, such as its type and a description. Exception handling allows you to deal with these errors gracefully, preventing the program from crashing and enabling you to take corrective actions or provide appropriate feedback.\n",
    "\n",
    "Here are some common types of exceptions in Python:\n",
    "\n",
    "1. **SyntaxError:** This is a type of exception that occurs when there is a syntax error in your code. Syntax errors are typically detected by the Python interpreter before the program runs, and they prevent the program from executing.\n",
    "\n",
    "2. **ZeroDivisionError:** This exception occurs when you try to divide a number by zero.\n",
    "\n",
    "3. **NameError:** This exception occurs when you try to access a variable or name that does not exist in the current scope.\n",
    "\n",
    "4. **TypeError:** This exception occurs when an operation is performed on an object of an inappropriate data type.\n",
    "\n",
    "5. **ValueError:** This exception occurs when a function receives an argument of the correct data type but with an inappropriate value.\n",
    "\n",
    "Difference between Exceptions and Syntax Errors:\n",
    "\n",
    "#### 1. Cause of Error:\n",
    "\n",
    "* **Exceptions**: Exceptions occur during the execution of a program, usually as a result of runtime conditions such as invalid user input, file not found, or division by zero.\n",
    "* **Syntax Errors**: Syntax errors are detected by the Python interpreter before the program runs. They result from incorrect code syntax, such as missing parentheses or incorrect indentation.\n",
    "\n",
    "#### 2. Detection Time:\n",
    "\n",
    "* **Exceptions**: Exceptions are detected while the program is running, and they can occur in response to user actions or external factors.\n",
    "* **Syntax Errors**: Syntax errors are detected before the program starts executing, during the parsing phase when Python is converting your code into bytecode.\n",
    "\n",
    "#### 3. Handling:\n",
    "\n",
    "* **Exceptions**: You can handle exceptions using try-except blocks, allowing you to gracefully recover from errors and continue the program's execution.\n",
    "* **Syntax Errors**: Syntax errors must be fixed in the code before the program can be executed. They cannot be caught or handled using try-except blocks because they prevent the program from running.\n",
    "\n",
    "In summary, exceptions and syntax errors are both types of errors in Python, but they differ in their causes, detection times, and how they are handled. Exceptions occur during program execution and can be handled, while syntax errors are detected before execution and must be fixed in the code.\n"
   ]
  },
  {
   "cell_type": "markdown",
   "id": "8afe833b",
   "metadata": {},
   "source": [
    "## Q2. What happens when an exception is not handled? Explain with an example."
   ]
  },
  {
   "cell_type": "markdown",
   "id": "805066b8",
   "metadata": {},
   "source": [
    "When an exception is not handled in a Python program, it results in the program terminating abruptly. The Python interpreter will print an error message to the console, indicating the type of exception that occurred and where it happened in the code. This unhandled exception can lead to the program crashing and not completing its intended tasks.\n",
    "\n",
    "Here's an example to illustrate what happens when an exception is not handled:"
   ]
  },
  {
   "cell_type": "markdown",
   "id": "a5a427c6",
   "metadata": {},
   "source": [
    "In this example, the program attempts to divide one number by another, and this operation may raise a ZeroDivisionError if the user enters 0 as the second number. However, there is no explicit handling for the ZeroDivisionError in the code."
   ]
  },
  {
   "cell_type": "code",
   "execution_count": 4,
   "id": "e927215c",
   "metadata": {},
   "outputs": [
    {
     "name": "stdout",
     "output_type": "stream",
     "text": [
      "Enter a number: 10\n",
      "Enter another number: 0\n"
     ]
    },
    {
     "ename": "ZeroDivisionError",
     "evalue": "division by zero",
     "output_type": "error",
     "traceback": [
      "\u001b[1;31m---------------------------------------------------------------------------\u001b[0m",
      "\u001b[1;31mZeroDivisionError\u001b[0m                         Traceback (most recent call last)",
      "Cell \u001b[1;32mIn[4], line 6\u001b[0m\n\u001b[0;32m      3\u001b[0m     num1 \u001b[38;5;241m=\u001b[39m \u001b[38;5;28mint\u001b[39m(\u001b[38;5;28minput\u001b[39m(\u001b[38;5;124m\"\u001b[39m\u001b[38;5;124mEnter a number: \u001b[39m\u001b[38;5;124m\"\u001b[39m))\n\u001b[0;32m      4\u001b[0m     num2 \u001b[38;5;241m=\u001b[39m \u001b[38;5;28mint\u001b[39m(\u001b[38;5;28minput\u001b[39m(\u001b[38;5;124m\"\u001b[39m\u001b[38;5;124mEnter another number: \u001b[39m\u001b[38;5;124m\"\u001b[39m))\n\u001b[1;32m----> 6\u001b[0m     result \u001b[38;5;241m=\u001b[39m \u001b[43mnum1\u001b[49m\u001b[43m \u001b[49m\u001b[38;5;241;43m/\u001b[39;49m\u001b[43m \u001b[49m\u001b[43mnum2\u001b[49m  \u001b[38;5;66;03m# This line may raise a ZeroDivisionError\u001b[39;00m\n\u001b[0;32m      8\u001b[0m     \u001b[38;5;28mprint\u001b[39m(\u001b[38;5;124m\"\u001b[39m\u001b[38;5;124mResult:\u001b[39m\u001b[38;5;124m\"\u001b[39m, result)\n\u001b[0;32m     10\u001b[0m \u001b[38;5;28;01mexcept\u001b[39;00m \u001b[38;5;167;01mValueError\u001b[39;00m \u001b[38;5;28;01mas\u001b[39;00m ve:\n",
      "\u001b[1;31mZeroDivisionError\u001b[0m: division by zero"
     ]
    }
   ],
   "source": [
    "# Example code with an unhandled exception\n",
    "try:\n",
    "    num1 = int(input(\"Enter a number: \"))\n",
    "    num2 = int(input(\"Enter another number: \"))\n",
    "    \n",
    "    result = num1 / num2  # This line may raise a ZeroDivisionError\n",
    "    \n",
    "    print(\"Result:\", result)\n",
    "\n",
    "except ValueError as ve:\n",
    "    print(\"ValueError:\", ve)\n",
    "\n",
    "# This code does not have an explicit handling for ZeroDivisionError"
   ]
  },
  {
   "cell_type": "markdown",
   "id": "09b15728",
   "metadata": {},
   "source": [
    "The program terminates abruptly after the exception is raised, and you don't see any output beyond the error message. This is why it's important to handle exceptions in your code to prevent such crashes and provide a more graceful response to unexpected errors.\n",
    "\n",
    "To handle the ZeroDivisionError in this example, you can add a try-except block specifically for that exception:"
   ]
  },
  {
   "cell_type": "code",
   "execution_count": 5,
   "id": "49633abc",
   "metadata": {},
   "outputs": [
    {
     "name": "stdout",
     "output_type": "stream",
     "text": [
      "Enter a number: 10\n",
      "Enter another number: 0\n",
      "ZeroDivisionError: division by zero\n"
     ]
    }
   ],
   "source": [
    "# Handling the ZeroDivisionError\n",
    "try:\n",
    "    num1 = int(input(\"Enter a number: \"))\n",
    "    num2 = int(input(\"Enter another number: \"))\n",
    "    \n",
    "    result = num1 / num2\n",
    "    \n",
    "    print(\"Result:\", result)\n",
    "\n",
    "except ValueError as ve:\n",
    "    print(\"ValueError:\", ve)\n",
    "\n",
    "except ZeroDivisionError as ze:\n",
    "    print(\"ZeroDivisionError:\", ze)\n"
   ]
  },
  {
   "cell_type": "markdown",
   "id": "63dd5cca",
   "metadata": {},
   "source": [
    "With this modification, if the user enters 0 as the second number, the program will catch the ZeroDivisionError and print a specific error message, allowing the program to continue running and handle the error gracefully."
   ]
  },
  {
   "cell_type": "markdown",
   "id": "b0478abd",
   "metadata": {},
   "source": [
    "## Q3. Which Python statements are used to catch and handle exceptions? Explain with an example."
   ]
  },
  {
   "cell_type": "markdown",
   "id": "d4aebcad",
   "metadata": {},
   "source": [
    "In Python, you can catch and handle exceptions using the try and except statements. The try block encloses the code that may raise an exception, and the except block specifies how to handle the exception if it occurs. Here's the basic structure:"
   ]
  },
  {
   "cell_type": "code",
   "execution_count": null,
   "id": "00353c3b",
   "metadata": {},
   "outputs": [],
   "source": [
    "try:\n",
    "    # Code that may raise an exception\n",
    "except ExceptionType as e:\n",
    "    # Code to handle the exception"
   ]
  },
  {
   "cell_type": "code",
   "execution_count": null,
   "id": "a9dcdff5",
   "metadata": {},
   "outputs": [],
   "source": [
    "try:\n",
    "    num1 = int(input(\"Enter a number: \"))\n",
    "    num2 = int(input(\"Enter another number: \"))\n",
    "    \n",
    "    result = num1 / num2  # This line may raise a ZeroDivisionError\n",
    "    \n",
    "    print(\"Result:\", result)\n",
    "\n",
    "except ValueError as ve:\n",
    "    print(\"ValueError:\", ve)\n",
    "except ZeroDivisionError as ze:\n",
    "    print(\"ZeroDivisionError:\", ze)"
   ]
  },
  {
   "cell_type": "markdown",
   "id": "fa751cdc",
   "metadata": {},
   "source": [
    "In this example:\n",
    "\n",
    "1. The try block contains the code that may raise exceptions. It attempts to read two numbers from the user and perform division, which may raise a ValueError (if the input is not a valid integer) or a ZeroDivisionError (if the second number is 0).\n",
    "\n",
    "2. The except blocks follow the try block and specify how to handle specific exceptions. In this case, we have two except blocks: one for ValueError and another for ZeroDivisionError. Each except block specifies the type of exception to catch (e.g., ValueError) and assigns it to a variable (e.g., ve and ze). Then, it executes the code within the except block.\n",
    "\n",
    "* If a ValueError occurs (e.g., when the user enters a non-integer value), the program executes the code in the first except block and prints \"ValueError\" along with the exception details.\n",
    "\n",
    "* If a ZeroDivisionError occurs (e.g., when the user enters 0 as the second number), the program executes the code in the second except block and prints \"ZeroDivisionError\" along with the exception details.\n",
    "\n",
    "Using try and except statements allows you to handle exceptions gracefully, preventing the program from crashing and providing a way to respond to unexpected errors. You can have multiple except blocks to handle different types of exceptions, and you can also have a generic except block to catch any other exceptions that aren't explicitly handled."
   ]
  },
  {
   "cell_type": "markdown",
   "id": "c43d237b",
   "metadata": {},
   "source": [
    "## Q4. Explain with an example: a. try and else b. finally c. raise"
   ]
  },
  {
   "cell_type": "markdown",
   "id": "9784051a",
   "metadata": {},
   "source": [
    "#### a. try and else:\n",
    "The else block is used in conjunction with the try and except blocks to specify a block of code that should be executed if no exceptions are raised in the try block. It allows you to provide alternative code paths when no exceptions occur."
   ]
  },
  {
   "cell_type": "code",
   "execution_count": 6,
   "id": "1de0de88",
   "metadata": {},
   "outputs": [
    {
     "name": "stdout",
     "output_type": "stream",
     "text": [
      "No exceptions occurred.\n"
     ]
    }
   ],
   "source": [
    "try:\n",
    "    # Code that may raise an exception\n",
    "    result = 10 / 2\n",
    "except ZeroDivisionError as ze:\n",
    "    print(\"ZeroDivisionError:\", ze)\n",
    "else:\n",
    "    print(\"No exceptions occurred.\")\n"
   ]
  },
  {
   "cell_type": "markdown",
   "id": "1d241682",
   "metadata": {},
   "source": [
    "In this example, the code in the try block attempts to perform a division operation, which typically doesn't raise an exception. Therefore, the else block is executed, and \"No exceptions occurred.\" is printed to the console."
   ]
  },
  {
   "cell_type": "markdown",
   "id": "74370503",
   "metadata": {},
   "source": [
    "#### b. finally:\n",
    "\n",
    "The finally block is used to specify a block of code that will always be executed, whether an exception is raised or not. It is often used for cleanup operations, such as closing files or releasing resources."
   ]
  },
  {
   "cell_type": "code",
   "execution_count": 10,
   "id": "db4105ff",
   "metadata": {},
   "outputs": [
    {
     "name": "stdout",
     "output_type": "stream",
     "text": [
      "3\n"
     ]
    }
   ],
   "source": [
    "try:\n",
    "    # Code that may raise an exception\n",
    "    file = open('example.txt', 'w')\n",
    "    content = file.write(\"Hey\")\n",
    "    print(content)\n",
    "except FileNotFoundError as e:\n",
    "    print(\"File not found:\", e)\n",
    "finally:\n",
    "    # This block is always executed\n",
    "    file.close()"
   ]
  },
  {
   "cell_type": "markdown",
   "id": "f901fa4d",
   "metadata": {},
   "source": [
    "In this example, the try block attempts to open and read a file. If the file is not found, a FileNotFoundError exception may be raised. Regardless of whether an exception occurs, the finally block ensures that the file is closed properly."
   ]
  },
  {
   "cell_type": "markdown",
   "id": "ce2ad317",
   "metadata": {},
   "source": [
    "#### c. raise:\n",
    "\n",
    "The raise statement is used to explicitly raise an exception in Python. You can use it to create custom exceptions or re-raise exceptions that you catch."
   ]
  },
  {
   "cell_type": "code",
   "execution_count": 11,
   "id": "3ac0d2a7",
   "metadata": {},
   "outputs": [
    {
     "name": "stdout",
     "output_type": "stream",
     "text": [
      "Error: Cannot divide by zero\n"
     ]
    }
   ],
   "source": [
    "def divide(a, b):\n",
    "    if b == 0:\n",
    "        raise ZeroDivisionError(\"Cannot divide by zero\")\n",
    "    return a / b\n",
    "\n",
    "try:\n",
    "    result = divide(10, 0)\n",
    "except ZeroDivisionError as ze:\n",
    "    print(\"Error:\", ze)"
   ]
  },
  {
   "cell_type": "markdown",
   "id": "cb1a3ee5",
   "metadata": {},
   "source": [
    "In this example, the divide function checks if the second argument b is zero. If it is, the function raises a ZeroDivisionError with a custom error message. The try block calls the divide function, and if a ZeroDivisionError is raised, it is caught and the error message is printed.\n",
    "\n",
    "These concepts (try and else, finally, and raise) are essential for effective error handling and control flow in Python programs. They allow you to handle exceptions gracefully, clean up resources, and customize error messages when necessary."
   ]
  },
  {
   "cell_type": "markdown",
   "id": "98e60c32",
   "metadata": {},
   "source": [
    "## Q5. What are Custom Exceptions in python? Why do we need Custom Exceptions? Explain with an example."
   ]
  },
  {
   "cell_type": "markdown",
   "id": "69db9ee9",
   "metadata": {},
   "source": [
    "Custom exceptions, also known as user-defined exceptions, are exceptions that you create in your Python code to handle specific error conditions that are not adequately covered by the built-in exception types. They allow you to define your own exceptional situations and provide meaningful error messages to users or developers who interact with your code.\n",
    "\n",
    "**Why do we need Custom Exceptions?**\n",
    "\n",
    "Custom exceptions are valuable for the following reasons:\n",
    "\n",
    "1. **Clarity**: They make your code more readable and self-explanatory by providing clear and descriptive error messages, helping developers understand what went wrong.\n",
    "\n",
    "2. **Customization**: You can tailor the exception to specific use cases in your application, allowing for precise error handling and recovery.\n",
    "\n",
    "3. **Modularity**: Custom exceptions help in creating more modular and maintainable code. They encapsulate error details, making it easier to manage errors within the appropriate parts of your codebase.\n",
    "\n",
    "4. **Consistency**: By defining custom exceptions, you can enforce consistent error-handling practices across your project or organization.\n",
    "\n",
    "Here's an example of creating and using a custom exception:"
   ]
  },
  {
   "cell_type": "code",
   "execution_count": 1,
   "id": "30c2fa67",
   "metadata": {},
   "outputs": [
    {
     "name": "stdout",
     "output_type": "stream",
     "text": [
      "Insufficient funds in account 12345. Required: 750\n"
     ]
    }
   ],
   "source": [
    "\n",
    "class InsufficientFundsError(Exception):\n",
    "    def __init__(self, account, amount):\n",
    "        self.account = account\n",
    "        self.amount = amount\n",
    "        super().__init__(f\"Insufficient funds in account {account}. Required: {amount}\")\n",
    "\n",
    "class BankAccount:\n",
    "    def __init__(self, account_number, balance):\n",
    "        self.account_number = account_number\n",
    "        self.balance = balance\n",
    "\n",
    "    def withdraw(self, amount):\n",
    "        if self.balance < amount:\n",
    "            raise InsufficientFundsError(self.account_number, amount)\n",
    "        else:\n",
    "            self.balance -= amount\n",
    "\n",
    "# Example usage\n",
    "try:\n",
    "    account = BankAccount(\"12345\", 500)\n",
    "    account.withdraw(750)\n",
    "except InsufficientFundsError as e:\n",
    "    print(e)"
   ]
  },
  {
   "cell_type": "markdown",
   "id": "083aa018",
   "metadata": {},
   "source": [
    "\n",
    "In this example:\n",
    "\n",
    "- We define a custom exception `InsufficientFundsError` that inherits from the base `Exception` class. This exception is raised when there are insufficient funds in a bank account.\n",
    "\n",
    "- The `InsufficientFundsError` class has an `__init__` method that accepts the account number and the required withdrawal amount and constructs an error message.\n",
    "\n",
    "- The `BankAccount` class represents a bank account with an initial balance. The `withdraw` method checks if there are sufficient funds to make a withdrawal. If not, it raises the custom `InsufficientFundsError`.\n",
    "\n",
    "- In the example usage, we create a bank account with a balance of 500 and attempt to withdraw 750. Since there are insufficient funds, the `InsufficientFundsError` is raised and caught in the `except` block, where we print the error message.\n",
    "\n",
    "Custom exceptions like `InsufficientFundsError` help make the error-handling process more informative and tailored to the specific needs of your application."
   ]
  },
  {
   "cell_type": "markdown",
   "id": "5a9a3fed",
   "metadata": {},
   "source": [
    "## Q6. Create a custom exception class. Use this class to handle an exception."
   ]
  },
  {
   "cell_type": "code",
   "execution_count": 3,
   "id": "4e1367c2",
   "metadata": {},
   "outputs": [
    {
     "name": "stdout",
     "output_type": "stream",
     "text": [
      "Enter a positive integer: 0\n",
      "Input is valid.\n"
     ]
    }
   ],
   "source": [
    "# Custom exception class\n",
    "class InvalidInputError(Exception):\n",
    "    def __init__(self, input_value):\n",
    "        self.input_value = input_value\n",
    "        super().__init__(f\"Invalid input: {input_value}\")\n",
    "\n",
    "# Function that raises the custom exception\n",
    "def process_input(input_value):\n",
    "    if not isinstance(input_value, int) or input_value < 0:\n",
    "        raise InvalidInputError(input_value)\n",
    "    # Process the input (in this example, we're not doing anything)\n",
    "\n",
    "# Example usage\n",
    "try:\n",
    "    user_input = input(\"Enter a positive integer: \")\n",
    "    user_input = int(user_input)\n",
    "    process_input(user_input)\n",
    "    print(\"Input is valid.\")\n",
    "except ValueError:\n",
    "    print(\"Invalid input. Please enter a valid integer.\")\n",
    "except InvalidInputError as e:\n",
    "    print(e)"
   ]
  },
  {
   "cell_type": "code",
   "execution_count": null,
   "id": "6b3006c8",
   "metadata": {},
   "outputs": [],
   "source": []
  },
  {
   "cell_type": "code",
   "execution_count": null,
   "id": "d39923a1",
   "metadata": {},
   "outputs": [],
   "source": []
  },
  {
   "cell_type": "code",
   "execution_count": null,
   "id": "eb9102a2",
   "metadata": {},
   "outputs": [],
   "source": []
  }
 ],
 "metadata": {
  "kernelspec": {
   "display_name": "Python 3 (ipykernel)",
   "language": "python",
   "name": "python3"
  },
  "language_info": {
   "codemirror_mode": {
    "name": "ipython",
    "version": 3
   },
   "file_extension": ".py",
   "mimetype": "text/x-python",
   "name": "python",
   "nbconvert_exporter": "python",
   "pygments_lexer": "ipython3",
   "version": "3.10.9"
  }
 },
 "nbformat": 4,
 "nbformat_minor": 5
}
