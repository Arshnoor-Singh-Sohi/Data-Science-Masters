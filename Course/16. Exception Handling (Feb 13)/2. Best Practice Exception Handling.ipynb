{
 "cells": [
  {
   "cell_type": "code",
   "execution_count": 1,
   "id": "19d56584",
   "metadata": {},
   "outputs": [
    {
     "name": "stdout",
     "output_type": "stream",
     "text": [
      "division by zero\n"
     ]
    }
   ],
   "source": [
    "#use always a specific exception\n",
    "try:\n",
    "    10/0\n",
    "except Exception as e:\n",
    "    print(e)"
   ]
  },
  {
   "cell_type": "code",
   "execution_count": 2,
   "id": "81225a79",
   "metadata": {},
   "outputs": [
    {
     "name": "stdout",
     "output_type": "stream",
     "text": [
      "division by zero\n"
     ]
    }
   ],
   "source": [
    "try:\n",
    "    10/0\n",
    "except ZeroDivisionError as e:\n",
    "    print(e)"
   ]
  },
  {
   "cell_type": "code",
   "execution_count": 3,
   "id": "968caa1e",
   "metadata": {},
   "outputs": [
    {
     "name": "stdout",
     "output_type": "stream",
     "text": [
      "I am trying to handle zerdivision error division by zero\n"
     ]
    }
   ],
   "source": [
    "#print always a proper message\n",
    "try:\n",
    "    10/0\n",
    "except ZeroDivisionError as e:\n",
    "    print(\"I am trying to handle zerdivision error\", e)"
   ]
  },
  {
   "cell_type": "code",
   "execution_count": 6,
   "id": "572dd5b6",
   "metadata": {},
   "outputs": [],
   "source": [
    "#Always try to log your error\n",
    "import logging\n",
    "logging.basicConfig(filename=\"error.log\", level=logging.ERROR)\n",
    "try:\n",
    "    10/0\n",
    "except ZeroDivisionError as e:\n",
    "    logging.info(\"I am trying to handle zerdivision error{}\".format(e))"
   ]
  },
  {
   "cell_type": "code",
   "execution_count": 7,
   "id": "37f0df84",
   "metadata": {},
   "outputs": [],
   "source": [
    "#Always avoid to write a multiple exception handling\n",
    "try:\n",
    "    10/0\n",
    "except FileNotFoundError as e:\n",
    "    logging.error(\"I am handling file not found {}\".format(e))\n",
    "except AttributeError as e:\n",
    "    logging.error(\"I am handling Attribute error {}\".format(e))\n",
    "except ZeroDivisionError as e:\n",
    "    logging.info(\"I am trying to handle zerdivision error{}\".format(e))"
   ]
  },
  {
   "cell_type": "code",
   "execution_count": 8,
   "id": "a9748d21",
   "metadata": {},
   "outputs": [],
   "source": [
    "#Document all the error\n",
    "#Cleanup all the resources\n",
    "try:\n",
    "    with open(\"test.txt\", 'w') as f:\n",
    "        f.write(\"This is my data to file\")\n",
    "except FileNotFoundError as e:\n",
    "    logging.error(\"I am handling file not found {}\".format(e))\n",
    "finally:\n",
    "    f.close()"
   ]
  },
  {
   "cell_type": "code",
   "execution_count": null,
   "id": "53d95a13",
   "metadata": {},
   "outputs": [],
   "source": []
  }
 ],
 "metadata": {
  "kernelspec": {
   "display_name": "Python 3 (ipykernel)",
   "language": "python",
   "name": "python3"
  },
  "language_info": {
   "codemirror_mode": {
    "name": "ipython",
    "version": 3
   },
   "file_extension": ".py",
   "mimetype": "text/x-python",
   "name": "python",
   "nbconvert_exporter": "python",
   "pygments_lexer": "ipython3",
   "version": "3.10.9"
  }
 },
 "nbformat": 4,
 "nbformat_minor": 5
}
