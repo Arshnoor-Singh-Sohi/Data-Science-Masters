{
 "cells": [
  {
   "cell_type": "markdown",
   "id": "0e752712",
   "metadata": {},
   "source": [
    "## Chi Square Test With Python"
   ]
  },
  {
   "cell_type": "code",
   "execution_count": 1,
   "id": "3d19a024",
   "metadata": {},
   "outputs": [],
   "source": [
    "import scipy.stats as stat\n",
    "import numpy as np"
   ]
  },
  {
   "cell_type": "code",
   "execution_count": 4,
   "id": "0924d6d5",
   "metadata": {},
   "outputs": [],
   "source": [
    "## Number of hours student study in a weekly basis daily\n",
    "## monday, tuesday, wednesday, thursday, friday, saturday, sunday\n",
    "expected_data = [8, 6, 7, 9, 6, 9, 7]\n",
    "observed_data = [7, 8, 6, 9, 9, 6, 7]"
   ]
  },
  {
   "cell_type": "code",
   "execution_count": 5,
   "id": "fc6794d6",
   "metadata": {},
   "outputs": [
    {
     "data": {
      "text/plain": [
       "(52, 52)"
      ]
     },
     "execution_count": 5,
     "metadata": {},
     "output_type": "execute_result"
    }
   ],
   "source": [
    "sum(expected_data), sum(observed_data)"
   ]
  },
  {
   "cell_type": "code",
   "execution_count": 6,
   "id": "c12c5499",
   "metadata": {},
   "outputs": [],
   "source": [
    "## Chi - Square Goodness Of Fit Test\n",
    "chisquare_test_statistic, p_value = stat.chisquare(observed_data, expected_data)"
   ]
  },
  {
   "cell_type": "code",
   "execution_count": 7,
   "id": "e4591050",
   "metadata": {},
   "outputs": [
    {
     "data": {
      "text/plain": [
       "(3.4345238095238093, 0.7526596580922865)"
      ]
     },
     "execution_count": 7,
     "metadata": {},
     "output_type": "execute_result"
    }
   ],
   "source": [
    "chisquare_test_statistic, p_value"
   ]
  },
  {
   "cell_type": "code",
   "execution_count": 11,
   "id": "0d000e06",
   "metadata": {},
   "outputs": [
    {
     "name": "stdout",
     "output_type": "stream",
     "text": [
      "6\n"
     ]
    }
   ],
   "source": [
    "## Find the critical value\n",
    "significance_value = 0.05\n",
    "dof = len(expected_data) - 1\n",
    "print(dof)\n",
    "critical_value = stat.chi2.ppf(1 - significance_value, dof)"
   ]
  },
  {
   "cell_type": "code",
   "execution_count": 12,
   "id": "d5fd9727",
   "metadata": {},
   "outputs": [
    {
     "data": {
      "text/plain": [
       "12.591587243743977"
      ]
     },
     "execution_count": 12,
     "metadata": {},
     "output_type": "execute_result"
    }
   ],
   "source": [
    "critical_value"
   ]
  },
  {
   "cell_type": "code",
   "execution_count": 14,
   "id": "cfa2c565",
   "metadata": {},
   "outputs": [
    {
     "name": "stdout",
     "output_type": "stream",
     "text": [
      "Accept the null hypothesis\n"
     ]
    }
   ],
   "source": [
    "if chisquare_test_statistic > critical_value:\n",
    "    print(\"Reject the null hypothesis\")\n",
    "else:\n",
    "    print(\"Accept the null hypothesis\")"
   ]
  },
  {
   "cell_type": "code",
   "execution_count": null,
   "id": "57c5450c",
   "metadata": {},
   "outputs": [],
   "source": []
  }
 ],
 "metadata": {
  "kernelspec": {
   "display_name": "Python 3 (ipykernel)",
   "language": "python",
   "name": "python3"
  },
  "language_info": {
   "codemirror_mode": {
    "name": "ipython",
    "version": 3
   },
   "file_extension": ".py",
   "mimetype": "text/x-python",
   "name": "python",
   "nbconvert_exporter": "python",
   "pygments_lexer": "ipython3",
   "version": "3.10.9"
  }
 },
 "nbformat": 4,
 "nbformat_minor": 5
}
