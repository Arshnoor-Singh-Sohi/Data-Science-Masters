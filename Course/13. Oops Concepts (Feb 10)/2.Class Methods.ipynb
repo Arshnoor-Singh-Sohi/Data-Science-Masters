{
 "cells": [
  {
   "cell_type": "code",
   "execution_count": 2,
   "id": "eac6eb21",
   "metadata": {},
   "outputs": [],
   "source": [
    "class pwskills:\n",
    "    \n",
    "    def __init__(self, name, email):\n",
    "        self.name = name\n",
    "        self.email = email\n",
    "        \n",
    "    def students_details(self):\n",
    "        print(self.name, self.email)"
   ]
  },
  {
   "cell_type": "code",
   "execution_count": 3,
   "id": "db96539d",
   "metadata": {},
   "outputs": [],
   "source": [
    "pw = pwskills(\"mohan\", \"mohan@gmail.com\")"
   ]
  },
  {
   "cell_type": "code",
   "execution_count": 4,
   "id": "2ac44162",
   "metadata": {},
   "outputs": [
    {
     "data": {
      "text/plain": [
       "'mohan'"
      ]
     },
     "execution_count": 4,
     "metadata": {},
     "output_type": "execute_result"
    }
   ],
   "source": [
    "pw.name"
   ]
  },
  {
   "cell_type": "code",
   "execution_count": 5,
   "id": "2db19edb",
   "metadata": {},
   "outputs": [
    {
     "data": {
      "text/plain": [
       "'mohan@gmail.com'"
      ]
     },
     "execution_count": 5,
     "metadata": {},
     "output_type": "execute_result"
    }
   ],
   "source": [
    "pw.email"
   ]
  },
  {
   "cell_type": "code",
   "execution_count": 6,
   "id": "515c6567",
   "metadata": {},
   "outputs": [
    {
     "name": "stdout",
     "output_type": "stream",
     "text": [
      "mohan mohan@gmail.com\n"
     ]
    }
   ],
   "source": [
    "pw.students_details()"
   ]
  },
  {
   "cell_type": "code",
   "execution_count": 7,
   "id": "5d0f15de",
   "metadata": {},
   "outputs": [],
   "source": [
    "class pwskills1:\n",
    "    \n",
    "    def __init__(self, name, email):\n",
    "        self.name = name\n",
    "        self.email = email\n",
    "        \n",
    "    @classmethod\n",
    "    def details(cls, name, email):\n",
    "        return cls(name, email)\n",
    "        \n",
    "    def students_details(self):\n",
    "        print(self.name, self.email)"
   ]
  },
  {
   "cell_type": "code",
   "execution_count": 11,
   "id": "b53a3b69",
   "metadata": {},
   "outputs": [],
   "source": [
    "# Without creating an object we can pass name and email which was not possible in __init__()\n",
    "# i.e init method is overloaded\n",
    "pw1 = pwskills1.details(\"sudh\", \"sudh@gmail.com\")"
   ]
  },
  {
   "cell_type": "code",
   "execution_count": 10,
   "id": "ac6fd58a",
   "metadata": {},
   "outputs": [
    {
     "data": {
      "text/plain": [
       "'sudh'"
      ]
     },
     "execution_count": 10,
     "metadata": {},
     "output_type": "execute_result"
    }
   ],
   "source": [
    "pw1.name"
   ]
  },
  {
   "cell_type": "code",
   "execution_count": 12,
   "id": "4826ae05",
   "metadata": {},
   "outputs": [
    {
     "data": {
      "text/plain": [
       "'sudh@gmail.com'"
      ]
     },
     "execution_count": 12,
     "metadata": {},
     "output_type": "execute_result"
    }
   ],
   "source": [
    "pw1.email"
   ]
  },
  {
   "cell_type": "code",
   "execution_count": 13,
   "id": "6db8bee5",
   "metadata": {},
   "outputs": [
    {
     "name": "stdout",
     "output_type": "stream",
     "text": [
      "sudh sudh@gmail.com\n"
     ]
    }
   ],
   "source": [
    "pw1.students_details()"
   ]
  },
  {
   "cell_type": "code",
   "execution_count": 30,
   "id": "7703176c",
   "metadata": {},
   "outputs": [],
   "source": [
    "class pwskills2:\n",
    "    \n",
    "    mobile_num = 6239445249\n",
    "    \n",
    "    def __init__(self, name, email):\n",
    "        self.name = name\n",
    "        self.email = email\n",
    "        \n",
    "    @classmethod    \n",
    "    def change_number(cls, mobile):\n",
    "        pwskills2.mobile_num = mobile\n",
    "        \n",
    "    @classmethod\n",
    "    def details(cls, name, email):\n",
    "        return cls(name, email)\n",
    "    \n",
    "    def students_details(self):\n",
    "        print(self.name, self.email, pwskills2.mobile_num)"
   ]
  },
  {
   "cell_type": "code",
   "execution_count": 31,
   "id": "4eaac8d3",
   "metadata": {},
   "outputs": [
    {
     "data": {
      "text/plain": [
       "6239445249"
      ]
     },
     "execution_count": 31,
     "metadata": {},
     "output_type": "execute_result"
    }
   ],
   "source": [
    "pwskills2.mobile_num"
   ]
  },
  {
   "cell_type": "code",
   "execution_count": 32,
   "id": "1d56ff38",
   "metadata": {},
   "outputs": [],
   "source": [
    "pwskills2.change_number(4567890)"
   ]
  },
  {
   "cell_type": "code",
   "execution_count": 33,
   "id": "af239e0e",
   "metadata": {},
   "outputs": [
    {
     "data": {
      "text/plain": [
       "4567890"
      ]
     },
     "execution_count": 33,
     "metadata": {},
     "output_type": "execute_result"
    }
   ],
   "source": [
    "pwskills2.mobile_num"
   ]
  },
  {
   "cell_type": "code",
   "execution_count": 34,
   "id": "d920a284",
   "metadata": {},
   "outputs": [],
   "source": [
    "pw_obj = pwskills2(\"sudh\", \"sudh@gmail.com\")"
   ]
  },
  {
   "cell_type": "code",
   "execution_count": 35,
   "id": "9bd40920",
   "metadata": {},
   "outputs": [
    {
     "name": "stdout",
     "output_type": "stream",
     "text": [
      "sudh sudh@gmail.com 4567890\n"
     ]
    }
   ],
   "source": [
    "pw_obj.students_details()"
   ]
  },
  {
   "cell_type": "code",
   "execution_count": 36,
   "id": "8847b07e",
   "metadata": {},
   "outputs": [],
   "source": [
    "pw = pwskills2.details(\"rohan\", \"rohan@gmail.com\")"
   ]
  },
  {
   "cell_type": "code",
   "execution_count": 37,
   "id": "be071b48",
   "metadata": {},
   "outputs": [
    {
     "name": "stdout",
     "output_type": "stream",
     "text": [
      "rohan rohan@gmail.com 4567890\n"
     ]
    }
   ],
   "source": [
    "pw.students_details()"
   ]
  },
  {
   "cell_type": "code",
   "execution_count": 38,
   "id": "f3f6f5bc",
   "metadata": {},
   "outputs": [],
   "source": [
    "class pwskills3:\n",
    "    \n",
    "    mobile_num = 6239445249\n",
    "    \n",
    "    def __init__(self, name, email):\n",
    "        self.name = name\n",
    "        self.email = email\n",
    "        \n",
    "    @classmethod    \n",
    "    def change_number(cls, mobile):\n",
    "        pwskills2.mobile_num = mobile\n",
    "        \n",
    "    @classmethod\n",
    "    def details(cls, name, email):\n",
    "        return cls(name, email)\n",
    "    \n",
    "    def students_details(self):\n",
    "        print(self.name, self.email, pwskills2.mobile_num)"
   ]
  },
  {
   "cell_type": "code",
   "execution_count": 39,
   "id": "f39c5a03",
   "metadata": {},
   "outputs": [],
   "source": [
    "def course_details(cls, course_name):\n",
    "    print(\"Course name is \", course_name)"
   ]
  },
  {
   "cell_type": "code",
   "execution_count": 40,
   "id": "07958162",
   "metadata": {},
   "outputs": [],
   "source": [
    "pwskills3.course_details = classmethod(course_details)"
   ]
  },
  {
   "cell_type": "code",
   "execution_count": 42,
   "id": "95ef4495",
   "metadata": {},
   "outputs": [
    {
     "name": "stdout",
     "output_type": "stream",
     "text": [
      "Course name is  Data Science Masters\n"
     ]
    }
   ],
   "source": [
    "pwskills3.course_details(\"Data Science Masters\")"
   ]
  },
  {
   "cell_type": "code",
   "execution_count": 43,
   "id": "7762ec3f",
   "metadata": {},
   "outputs": [],
   "source": [
    "def mentor(cls, list_of_mentor):\n",
    "    print(list_of_mentor)"
   ]
  },
  {
   "cell_type": "code",
   "execution_count": 44,
   "id": "9dba3c8c",
   "metadata": {},
   "outputs": [],
   "source": [
    "pwskills3.mentor = classmethod(mentor)"
   ]
  },
  {
   "cell_type": "code",
   "execution_count": 45,
   "id": "d7ede85c",
   "metadata": {},
   "outputs": [
    {
     "name": "stdout",
     "output_type": "stream",
     "text": [
      "['Sudh', 'Krish']\n"
     ]
    }
   ],
   "source": [
    "pwskills3.mentor([\"Sudh\", \"Krish\"])"
   ]
  },
  {
   "cell_type": "code",
   "execution_count": 46,
   "id": "d0d987a0",
   "metadata": {},
   "outputs": [],
   "source": [
    "class pwskills4:\n",
    "    \n",
    "    mobile_num = 6239445249\n",
    "    \n",
    "    def __init__(self, name, email):\n",
    "        self.name = name\n",
    "        self.email = email\n",
    "        \n",
    "    @classmethod    \n",
    "    def change_number(cls, mobile):\n",
    "        pwskills2.mobile_num = mobile\n",
    "        \n",
    "    @classmethod\n",
    "    def details(cls, name, email):\n",
    "        return cls(name, email)\n",
    "    \n",
    "    def students_details(self):\n",
    "        print(self.name, self.email, pwskills2.mobile_num)"
   ]
  },
  {
   "cell_type": "code",
   "execution_count": 47,
   "id": "7b490dc8",
   "metadata": {},
   "outputs": [],
   "source": [
    "del pwskills4.change_number"
   ]
  },
  {
   "cell_type": "code",
   "execution_count": 49,
   "id": "30f95b00",
   "metadata": {},
   "outputs": [],
   "source": [
    "# pwskills4.change_number(98765432) #Error"
   ]
  },
  {
   "cell_type": "code",
   "execution_count": 50,
   "id": "1a51eec0",
   "metadata": {},
   "outputs": [],
   "source": [
    "delattr(pwskills4, \"details\")"
   ]
  },
  {
   "cell_type": "code",
   "execution_count": 52,
   "id": "6525f71d",
   "metadata": {},
   "outputs": [],
   "source": [
    "# pwskills4.details() #Error"
   ]
  },
  {
   "cell_type": "code",
   "execution_count": 53,
   "id": "87d9ce05",
   "metadata": {},
   "outputs": [],
   "source": [
    "delattr(pwskills4, \"students_details\")"
   ]
  },
  {
   "cell_type": "code",
   "execution_count": 54,
   "id": "2dd87ed3",
   "metadata": {},
   "outputs": [],
   "source": [
    "# pwskills4.students_details() #Error"
   ]
  },
  {
   "cell_type": "code",
   "execution_count": 55,
   "id": "df2710b1",
   "metadata": {},
   "outputs": [],
   "source": [
    "delattr(pwskills4, \"mobile_num\")"
   ]
  },
  {
   "cell_type": "code",
   "execution_count": 56,
   "id": "166d1641",
   "metadata": {},
   "outputs": [],
   "source": [
    "# pwskills4.mobile_num #Error"
   ]
  },
  {
   "cell_type": "code",
   "execution_count": null,
   "id": "bfbdafcb",
   "metadata": {},
   "outputs": [],
   "source": []
  }
 ],
 "metadata": {
  "kernelspec": {
   "display_name": "Python 3 (ipykernel)",
   "language": "python",
   "name": "python3"
  },
  "language_info": {
   "codemirror_mode": {
    "name": "ipython",
    "version": 3
   },
   "file_extension": ".py",
   "mimetype": "text/x-python",
   "name": "python",
   "nbconvert_exporter": "python",
   "pygments_lexer": "ipython3",
   "version": "3.10.9"
  }
 },
 "nbformat": 4,
 "nbformat_minor": 5
}
